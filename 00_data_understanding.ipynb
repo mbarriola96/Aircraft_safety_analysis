{
 "cells": [
  {
   "cell_type": "markdown",
   "metadata": {},
   "source": [
    "# 1. SetUp "
   ]
  },
  {
   "cell_type": "markdown",
   "metadata": {},
   "source": [
    "# 2. Import necessary libraries"
   ]
  },
  {
   "cell_type": "code",
   "execution_count": 80,
   "metadata": {},
   "outputs": [],
   "source": [
    "import pandas as pd\n",
    "import matplotlib.pyplot as plt\n",
    "%matplotlib inline"
   ]
  },
  {
   "cell_type": "code",
   "execution_count": 81,
   "metadata": {},
   "outputs": [],
   "source": [
    "pd.set_option('display.max_columns', 500)"
   ]
  },
  {
   "cell_type": "markdown",
   "metadata": {},
   "source": [
    "# 3. Define global variables"
   ]
  },
  {
   "cell_type": "code",
   "execution_count": 82,
   "metadata": {},
   "outputs": [],
   "source": [
    "INPUT_PATH = \"../Data_Project_Phase1/AviationData.csv\""
   ]
  },
  {
   "cell_type": "code",
   "execution_count": null,
   "metadata": {},
   "outputs": [],
   "source": []
  },
  {
   "cell_type": "markdown",
   "metadata": {},
   "source": [
    "# 4. Functions"
   ]
  },
  {
   "cell_type": "code",
   "execution_count": 83,
   "metadata": {},
   "outputs": [],
   "source": [
    "def categorize_data(column):\n",
    "    \"\"\"\n",
    "    Function: This function will return the string 'zero' if the value of the argument (ie 'column') is 0 and will return \n",
    "    'one or more' if the value of 'column' is not zero\n",
    "    \n",
    "    Argument (data series): The column to evaluate\n",
    "    \n",
    "    Result (string): The category label for the value\n",
    "    \n",
    "    \"\"\"\n",
    "    return 'zero' if column==0 else 'one or more'"
   ]
  },
  {
   "cell_type": "code",
   "execution_count": 84,
   "metadata": {},
   "outputs": [],
   "source": [
    "def plot_bar_graph_for_columns(columns):\n",
    "    \n",
    "    \"\"\"\n",
    "    Function: This function creates a bar graph for a column.\n",
    "\n",
    "    Argument (data series): The columns to evaluate. \n",
    " \n",
    "    Returns: Bar plot for the column\n",
    "     \n",
    "    \"\"\"\n",
    "    \n",
    "    plt.figure()\n",
    "    df[columns].value_counts().plot(kind='bar')\n",
    "    plt.xlabel(columns)\n",
    "    plt.ylabel('Frequency')\n",
    "    plt.xticks(rotation=90)\n",
    "    plt.title(f'Bar Graph of {columns}')\n",
    " \n",
    "    "
   ]
  },
  {
   "cell_type": "markdown",
   "metadata": {},
   "source": [
    "# 5. Code"
   ]
  },
  {
   "cell_type": "code",
   "execution_count": 85,
   "metadata": {},
   "outputs": [
    {
     "name": "stderr",
     "output_type": "stream",
     "text": [
      "C:\\Users\\Usuario\\AppData\\Local\\Temp\\ipykernel_25556\\281516245.py:1: DtypeWarning: Columns (6,7,28) have mixed types. Specify dtype option on import or set low_memory=False.\n",
      "  df = pd.read_csv(INPUT_PATH, encoding=\"latin-1\")\n"
     ]
    },
    {
     "data": {
      "text/html": [
       "<div>\n",
       "<style scoped>\n",
       "    .dataframe tbody tr th:only-of-type {\n",
       "        vertical-align: middle;\n",
       "    }\n",
       "\n",
       "    .dataframe tbody tr th {\n",
       "        vertical-align: top;\n",
       "    }\n",
       "\n",
       "    .dataframe thead th {\n",
       "        text-align: right;\n",
       "    }\n",
       "</style>\n",
       "<table border=\"1\" class=\"dataframe\">\n",
       "  <thead>\n",
       "    <tr style=\"text-align: right;\">\n",
       "      <th></th>\n",
       "      <th>Event.Id</th>\n",
       "      <th>Investigation.Type</th>\n",
       "      <th>Accident.Number</th>\n",
       "      <th>Event.Date</th>\n",
       "      <th>Location</th>\n",
       "      <th>Country</th>\n",
       "      <th>Latitude</th>\n",
       "      <th>Longitude</th>\n",
       "      <th>Airport.Code</th>\n",
       "      <th>Airport.Name</th>\n",
       "      <th>Injury.Severity</th>\n",
       "      <th>Aircraft.damage</th>\n",
       "      <th>Aircraft.Category</th>\n",
       "      <th>Registration.Number</th>\n",
       "      <th>Make</th>\n",
       "      <th>Model</th>\n",
       "      <th>Amateur.Built</th>\n",
       "      <th>Number.of.Engines</th>\n",
       "      <th>Engine.Type</th>\n",
       "      <th>FAR.Description</th>\n",
       "      <th>Schedule</th>\n",
       "      <th>Purpose.of.flight</th>\n",
       "      <th>Air.carrier</th>\n",
       "      <th>Total.Fatal.Injuries</th>\n",
       "      <th>Total.Serious.Injuries</th>\n",
       "      <th>Total.Minor.Injuries</th>\n",
       "      <th>Total.Uninjured</th>\n",
       "      <th>Weather.Condition</th>\n",
       "      <th>Broad.phase.of.flight</th>\n",
       "      <th>Report.Status</th>\n",
       "      <th>Publication.Date</th>\n",
       "    </tr>\n",
       "  </thead>\n",
       "  <tbody>\n",
       "    <tr>\n",
       "      <th>0</th>\n",
       "      <td>20001218X45444</td>\n",
       "      <td>Accident</td>\n",
       "      <td>SEA87LA080</td>\n",
       "      <td>1948-10-24</td>\n",
       "      <td>MOOSE CREEK, ID</td>\n",
       "      <td>United States</td>\n",
       "      <td>NaN</td>\n",
       "      <td>NaN</td>\n",
       "      <td>NaN</td>\n",
       "      <td>NaN</td>\n",
       "      <td>Fatal(2)</td>\n",
       "      <td>Destroyed</td>\n",
       "      <td>NaN</td>\n",
       "      <td>NC6404</td>\n",
       "      <td>Stinson</td>\n",
       "      <td>108-3</td>\n",
       "      <td>No</td>\n",
       "      <td>1.0</td>\n",
       "      <td>Reciprocating</td>\n",
       "      <td>NaN</td>\n",
       "      <td>NaN</td>\n",
       "      <td>Personal</td>\n",
       "      <td>NaN</td>\n",
       "      <td>2.0</td>\n",
       "      <td>0.0</td>\n",
       "      <td>0.0</td>\n",
       "      <td>0.0</td>\n",
       "      <td>UNK</td>\n",
       "      <td>Cruise</td>\n",
       "      <td>Probable Cause</td>\n",
       "      <td>NaN</td>\n",
       "    </tr>\n",
       "    <tr>\n",
       "      <th>1</th>\n",
       "      <td>20001218X45447</td>\n",
       "      <td>Accident</td>\n",
       "      <td>LAX94LA336</td>\n",
       "      <td>1962-07-19</td>\n",
       "      <td>BRIDGEPORT, CA</td>\n",
       "      <td>United States</td>\n",
       "      <td>NaN</td>\n",
       "      <td>NaN</td>\n",
       "      <td>NaN</td>\n",
       "      <td>NaN</td>\n",
       "      <td>Fatal(4)</td>\n",
       "      <td>Destroyed</td>\n",
       "      <td>NaN</td>\n",
       "      <td>N5069P</td>\n",
       "      <td>Piper</td>\n",
       "      <td>PA24-180</td>\n",
       "      <td>No</td>\n",
       "      <td>1.0</td>\n",
       "      <td>Reciprocating</td>\n",
       "      <td>NaN</td>\n",
       "      <td>NaN</td>\n",
       "      <td>Personal</td>\n",
       "      <td>NaN</td>\n",
       "      <td>4.0</td>\n",
       "      <td>0.0</td>\n",
       "      <td>0.0</td>\n",
       "      <td>0.0</td>\n",
       "      <td>UNK</td>\n",
       "      <td>Unknown</td>\n",
       "      <td>Probable Cause</td>\n",
       "      <td>19-09-1996</td>\n",
       "    </tr>\n",
       "    <tr>\n",
       "      <th>2</th>\n",
       "      <td>20061025X01555</td>\n",
       "      <td>Accident</td>\n",
       "      <td>NYC07LA005</td>\n",
       "      <td>1974-08-30</td>\n",
       "      <td>Saltville, VA</td>\n",
       "      <td>United States</td>\n",
       "      <td>36.922223</td>\n",
       "      <td>-81.878056</td>\n",
       "      <td>NaN</td>\n",
       "      <td>NaN</td>\n",
       "      <td>Fatal(3)</td>\n",
       "      <td>Destroyed</td>\n",
       "      <td>NaN</td>\n",
       "      <td>N5142R</td>\n",
       "      <td>Cessna</td>\n",
       "      <td>172M</td>\n",
       "      <td>No</td>\n",
       "      <td>1.0</td>\n",
       "      <td>Reciprocating</td>\n",
       "      <td>NaN</td>\n",
       "      <td>NaN</td>\n",
       "      <td>Personal</td>\n",
       "      <td>NaN</td>\n",
       "      <td>3.0</td>\n",
       "      <td>NaN</td>\n",
       "      <td>NaN</td>\n",
       "      <td>NaN</td>\n",
       "      <td>IMC</td>\n",
       "      <td>Cruise</td>\n",
       "      <td>Probable Cause</td>\n",
       "      <td>26-02-2007</td>\n",
       "    </tr>\n",
       "    <tr>\n",
       "      <th>3</th>\n",
       "      <td>20001218X45448</td>\n",
       "      <td>Accident</td>\n",
       "      <td>LAX96LA321</td>\n",
       "      <td>1977-06-19</td>\n",
       "      <td>EUREKA, CA</td>\n",
       "      <td>United States</td>\n",
       "      <td>NaN</td>\n",
       "      <td>NaN</td>\n",
       "      <td>NaN</td>\n",
       "      <td>NaN</td>\n",
       "      <td>Fatal(2)</td>\n",
       "      <td>Destroyed</td>\n",
       "      <td>NaN</td>\n",
       "      <td>N1168J</td>\n",
       "      <td>Rockwell</td>\n",
       "      <td>112</td>\n",
       "      <td>No</td>\n",
       "      <td>1.0</td>\n",
       "      <td>Reciprocating</td>\n",
       "      <td>NaN</td>\n",
       "      <td>NaN</td>\n",
       "      <td>Personal</td>\n",
       "      <td>NaN</td>\n",
       "      <td>2.0</td>\n",
       "      <td>0.0</td>\n",
       "      <td>0.0</td>\n",
       "      <td>0.0</td>\n",
       "      <td>IMC</td>\n",
       "      <td>Cruise</td>\n",
       "      <td>Probable Cause</td>\n",
       "      <td>12-09-2000</td>\n",
       "    </tr>\n",
       "    <tr>\n",
       "      <th>4</th>\n",
       "      <td>20041105X01764</td>\n",
       "      <td>Accident</td>\n",
       "      <td>CHI79FA064</td>\n",
       "      <td>1979-08-02</td>\n",
       "      <td>Canton, OH</td>\n",
       "      <td>United States</td>\n",
       "      <td>NaN</td>\n",
       "      <td>NaN</td>\n",
       "      <td>NaN</td>\n",
       "      <td>NaN</td>\n",
       "      <td>Fatal(1)</td>\n",
       "      <td>Destroyed</td>\n",
       "      <td>NaN</td>\n",
       "      <td>N15NY</td>\n",
       "      <td>Cessna</td>\n",
       "      <td>501</td>\n",
       "      <td>No</td>\n",
       "      <td>NaN</td>\n",
       "      <td>NaN</td>\n",
       "      <td>NaN</td>\n",
       "      <td>NaN</td>\n",
       "      <td>Personal</td>\n",
       "      <td>NaN</td>\n",
       "      <td>1.0</td>\n",
       "      <td>2.0</td>\n",
       "      <td>NaN</td>\n",
       "      <td>0.0</td>\n",
       "      <td>VMC</td>\n",
       "      <td>Approach</td>\n",
       "      <td>Probable Cause</td>\n",
       "      <td>16-04-1980</td>\n",
       "    </tr>\n",
       "    <tr>\n",
       "      <th>...</th>\n",
       "      <td>...</td>\n",
       "      <td>...</td>\n",
       "      <td>...</td>\n",
       "      <td>...</td>\n",
       "      <td>...</td>\n",
       "      <td>...</td>\n",
       "      <td>...</td>\n",
       "      <td>...</td>\n",
       "      <td>...</td>\n",
       "      <td>...</td>\n",
       "      <td>...</td>\n",
       "      <td>...</td>\n",
       "      <td>...</td>\n",
       "      <td>...</td>\n",
       "      <td>...</td>\n",
       "      <td>...</td>\n",
       "      <td>...</td>\n",
       "      <td>...</td>\n",
       "      <td>...</td>\n",
       "      <td>...</td>\n",
       "      <td>...</td>\n",
       "      <td>...</td>\n",
       "      <td>...</td>\n",
       "      <td>...</td>\n",
       "      <td>...</td>\n",
       "      <td>...</td>\n",
       "      <td>...</td>\n",
       "      <td>...</td>\n",
       "      <td>...</td>\n",
       "      <td>...</td>\n",
       "      <td>...</td>\n",
       "    </tr>\n",
       "    <tr>\n",
       "      <th>88884</th>\n",
       "      <td>20221227106491</td>\n",
       "      <td>Accident</td>\n",
       "      <td>ERA23LA093</td>\n",
       "      <td>2022-12-26</td>\n",
       "      <td>Annapolis, MD</td>\n",
       "      <td>United States</td>\n",
       "      <td>NaN</td>\n",
       "      <td>NaN</td>\n",
       "      <td>NaN</td>\n",
       "      <td>NaN</td>\n",
       "      <td>Minor</td>\n",
       "      <td>NaN</td>\n",
       "      <td>NaN</td>\n",
       "      <td>N1867H</td>\n",
       "      <td>PIPER</td>\n",
       "      <td>PA-28-151</td>\n",
       "      <td>No</td>\n",
       "      <td>NaN</td>\n",
       "      <td>NaN</td>\n",
       "      <td>091</td>\n",
       "      <td>NaN</td>\n",
       "      <td>Personal</td>\n",
       "      <td>NaN</td>\n",
       "      <td>0.0</td>\n",
       "      <td>1.0</td>\n",
       "      <td>0.0</td>\n",
       "      <td>0.0</td>\n",
       "      <td>NaN</td>\n",
       "      <td>NaN</td>\n",
       "      <td>NaN</td>\n",
       "      <td>29-12-2022</td>\n",
       "    </tr>\n",
       "    <tr>\n",
       "      <th>88885</th>\n",
       "      <td>20221227106494</td>\n",
       "      <td>Accident</td>\n",
       "      <td>ERA23LA095</td>\n",
       "      <td>2022-12-26</td>\n",
       "      <td>Hampton, NH</td>\n",
       "      <td>United States</td>\n",
       "      <td>NaN</td>\n",
       "      <td>NaN</td>\n",
       "      <td>NaN</td>\n",
       "      <td>NaN</td>\n",
       "      <td>NaN</td>\n",
       "      <td>NaN</td>\n",
       "      <td>NaN</td>\n",
       "      <td>N2895Z</td>\n",
       "      <td>BELLANCA</td>\n",
       "      <td>7ECA</td>\n",
       "      <td>No</td>\n",
       "      <td>NaN</td>\n",
       "      <td>NaN</td>\n",
       "      <td>NaN</td>\n",
       "      <td>NaN</td>\n",
       "      <td>NaN</td>\n",
       "      <td>NaN</td>\n",
       "      <td>0.0</td>\n",
       "      <td>0.0</td>\n",
       "      <td>0.0</td>\n",
       "      <td>0.0</td>\n",
       "      <td>NaN</td>\n",
       "      <td>NaN</td>\n",
       "      <td>NaN</td>\n",
       "      <td>NaN</td>\n",
       "    </tr>\n",
       "    <tr>\n",
       "      <th>88886</th>\n",
       "      <td>20221227106497</td>\n",
       "      <td>Accident</td>\n",
       "      <td>WPR23LA075</td>\n",
       "      <td>2022-12-26</td>\n",
       "      <td>Payson, AZ</td>\n",
       "      <td>United States</td>\n",
       "      <td>341525N</td>\n",
       "      <td>1112021W</td>\n",
       "      <td>PAN</td>\n",
       "      <td>PAYSON</td>\n",
       "      <td>Non-Fatal</td>\n",
       "      <td>Substantial</td>\n",
       "      <td>Airplane</td>\n",
       "      <td>N749PJ</td>\n",
       "      <td>AMERICAN CHAMPION AIRCRAFT</td>\n",
       "      <td>8GCBC</td>\n",
       "      <td>No</td>\n",
       "      <td>1.0</td>\n",
       "      <td>NaN</td>\n",
       "      <td>091</td>\n",
       "      <td>NaN</td>\n",
       "      <td>Personal</td>\n",
       "      <td>NaN</td>\n",
       "      <td>0.0</td>\n",
       "      <td>0.0</td>\n",
       "      <td>0.0</td>\n",
       "      <td>1.0</td>\n",
       "      <td>VMC</td>\n",
       "      <td>NaN</td>\n",
       "      <td>NaN</td>\n",
       "      <td>27-12-2022</td>\n",
       "    </tr>\n",
       "    <tr>\n",
       "      <th>88887</th>\n",
       "      <td>20221227106498</td>\n",
       "      <td>Accident</td>\n",
       "      <td>WPR23LA076</td>\n",
       "      <td>2022-12-26</td>\n",
       "      <td>Morgan, UT</td>\n",
       "      <td>United States</td>\n",
       "      <td>NaN</td>\n",
       "      <td>NaN</td>\n",
       "      <td>NaN</td>\n",
       "      <td>NaN</td>\n",
       "      <td>NaN</td>\n",
       "      <td>NaN</td>\n",
       "      <td>NaN</td>\n",
       "      <td>N210CU</td>\n",
       "      <td>CESSNA</td>\n",
       "      <td>210N</td>\n",
       "      <td>No</td>\n",
       "      <td>NaN</td>\n",
       "      <td>NaN</td>\n",
       "      <td>091</td>\n",
       "      <td>NaN</td>\n",
       "      <td>Personal</td>\n",
       "      <td>MC CESSNA 210N LLC</td>\n",
       "      <td>0.0</td>\n",
       "      <td>0.0</td>\n",
       "      <td>0.0</td>\n",
       "      <td>0.0</td>\n",
       "      <td>NaN</td>\n",
       "      <td>NaN</td>\n",
       "      <td>NaN</td>\n",
       "      <td>NaN</td>\n",
       "    </tr>\n",
       "    <tr>\n",
       "      <th>88888</th>\n",
       "      <td>20221230106513</td>\n",
       "      <td>Accident</td>\n",
       "      <td>ERA23LA097</td>\n",
       "      <td>2022-12-29</td>\n",
       "      <td>Athens, GA</td>\n",
       "      <td>United States</td>\n",
       "      <td>NaN</td>\n",
       "      <td>NaN</td>\n",
       "      <td>NaN</td>\n",
       "      <td>NaN</td>\n",
       "      <td>Minor</td>\n",
       "      <td>NaN</td>\n",
       "      <td>NaN</td>\n",
       "      <td>N9026P</td>\n",
       "      <td>PIPER</td>\n",
       "      <td>PA-24-260</td>\n",
       "      <td>No</td>\n",
       "      <td>NaN</td>\n",
       "      <td>NaN</td>\n",
       "      <td>091</td>\n",
       "      <td>NaN</td>\n",
       "      <td>Personal</td>\n",
       "      <td>NaN</td>\n",
       "      <td>0.0</td>\n",
       "      <td>1.0</td>\n",
       "      <td>0.0</td>\n",
       "      <td>1.0</td>\n",
       "      <td>NaN</td>\n",
       "      <td>NaN</td>\n",
       "      <td>NaN</td>\n",
       "      <td>30-12-2022</td>\n",
       "    </tr>\n",
       "  </tbody>\n",
       "</table>\n",
       "<p>88889 rows × 31 columns</p>\n",
       "</div>"
      ],
      "text/plain": [
       "             Event.Id Investigation.Type Accident.Number  Event.Date  \\\n",
       "0      20001218X45444           Accident      SEA87LA080  1948-10-24   \n",
       "1      20001218X45447           Accident      LAX94LA336  1962-07-19   \n",
       "2      20061025X01555           Accident      NYC07LA005  1974-08-30   \n",
       "3      20001218X45448           Accident      LAX96LA321  1977-06-19   \n",
       "4      20041105X01764           Accident      CHI79FA064  1979-08-02   \n",
       "...               ...                ...             ...         ...   \n",
       "88884  20221227106491           Accident      ERA23LA093  2022-12-26   \n",
       "88885  20221227106494           Accident      ERA23LA095  2022-12-26   \n",
       "88886  20221227106497           Accident      WPR23LA075  2022-12-26   \n",
       "88887  20221227106498           Accident      WPR23LA076  2022-12-26   \n",
       "88888  20221230106513           Accident      ERA23LA097  2022-12-29   \n",
       "\n",
       "              Location        Country   Latitude  Longitude Airport.Code  \\\n",
       "0      MOOSE CREEK, ID  United States        NaN        NaN          NaN   \n",
       "1       BRIDGEPORT, CA  United States        NaN        NaN          NaN   \n",
       "2        Saltville, VA  United States  36.922223 -81.878056          NaN   \n",
       "3           EUREKA, CA  United States        NaN        NaN          NaN   \n",
       "4           Canton, OH  United States        NaN        NaN          NaN   \n",
       "...                ...            ...        ...        ...          ...   \n",
       "88884    Annapolis, MD  United States        NaN        NaN          NaN   \n",
       "88885      Hampton, NH  United States        NaN        NaN          NaN   \n",
       "88886       Payson, AZ  United States    341525N   1112021W          PAN   \n",
       "88887       Morgan, UT  United States        NaN        NaN          NaN   \n",
       "88888       Athens, GA  United States        NaN        NaN          NaN   \n",
       "\n",
       "      Airport.Name Injury.Severity Aircraft.damage Aircraft.Category  \\\n",
       "0              NaN        Fatal(2)       Destroyed               NaN   \n",
       "1              NaN        Fatal(4)       Destroyed               NaN   \n",
       "2              NaN        Fatal(3)       Destroyed               NaN   \n",
       "3              NaN        Fatal(2)       Destroyed               NaN   \n",
       "4              NaN        Fatal(1)       Destroyed               NaN   \n",
       "...            ...             ...             ...               ...   \n",
       "88884          NaN           Minor             NaN               NaN   \n",
       "88885          NaN             NaN             NaN               NaN   \n",
       "88886       PAYSON       Non-Fatal     Substantial          Airplane   \n",
       "88887          NaN             NaN             NaN               NaN   \n",
       "88888          NaN           Minor             NaN               NaN   \n",
       "\n",
       "      Registration.Number                        Make      Model  \\\n",
       "0                  NC6404                     Stinson      108-3   \n",
       "1                  N5069P                       Piper   PA24-180   \n",
       "2                  N5142R                      Cessna       172M   \n",
       "3                  N1168J                    Rockwell        112   \n",
       "4                   N15NY                      Cessna        501   \n",
       "...                   ...                         ...        ...   \n",
       "88884              N1867H                       PIPER  PA-28-151   \n",
       "88885              N2895Z                    BELLANCA       7ECA   \n",
       "88886              N749PJ  AMERICAN CHAMPION AIRCRAFT      8GCBC   \n",
       "88887              N210CU                      CESSNA       210N   \n",
       "88888              N9026P                       PIPER  PA-24-260   \n",
       "\n",
       "      Amateur.Built  Number.of.Engines    Engine.Type FAR.Description  \\\n",
       "0                No                1.0  Reciprocating             NaN   \n",
       "1                No                1.0  Reciprocating             NaN   \n",
       "2                No                1.0  Reciprocating             NaN   \n",
       "3                No                1.0  Reciprocating             NaN   \n",
       "4                No                NaN            NaN             NaN   \n",
       "...             ...                ...            ...             ...   \n",
       "88884            No                NaN            NaN             091   \n",
       "88885            No                NaN            NaN             NaN   \n",
       "88886            No                1.0            NaN             091   \n",
       "88887            No                NaN            NaN             091   \n",
       "88888            No                NaN            NaN             091   \n",
       "\n",
       "      Schedule Purpose.of.flight         Air.carrier  Total.Fatal.Injuries  \\\n",
       "0          NaN          Personal                 NaN                   2.0   \n",
       "1          NaN          Personal                 NaN                   4.0   \n",
       "2          NaN          Personal                 NaN                   3.0   \n",
       "3          NaN          Personal                 NaN                   2.0   \n",
       "4          NaN          Personal                 NaN                   1.0   \n",
       "...        ...               ...                 ...                   ...   \n",
       "88884      NaN          Personal                 NaN                   0.0   \n",
       "88885      NaN               NaN                 NaN                   0.0   \n",
       "88886      NaN          Personal                 NaN                   0.0   \n",
       "88887      NaN          Personal  MC CESSNA 210N LLC                   0.0   \n",
       "88888      NaN          Personal                 NaN                   0.0   \n",
       "\n",
       "       Total.Serious.Injuries  Total.Minor.Injuries  Total.Uninjured  \\\n",
       "0                         0.0                   0.0              0.0   \n",
       "1                         0.0                   0.0              0.0   \n",
       "2                         NaN                   NaN              NaN   \n",
       "3                         0.0                   0.0              0.0   \n",
       "4                         2.0                   NaN              0.0   \n",
       "...                       ...                   ...              ...   \n",
       "88884                     1.0                   0.0              0.0   \n",
       "88885                     0.0                   0.0              0.0   \n",
       "88886                     0.0                   0.0              1.0   \n",
       "88887                     0.0                   0.0              0.0   \n",
       "88888                     1.0                   0.0              1.0   \n",
       "\n",
       "      Weather.Condition Broad.phase.of.flight   Report.Status Publication.Date  \n",
       "0                   UNK                Cruise  Probable Cause              NaN  \n",
       "1                   UNK               Unknown  Probable Cause       19-09-1996  \n",
       "2                   IMC                Cruise  Probable Cause       26-02-2007  \n",
       "3                   IMC                Cruise  Probable Cause       12-09-2000  \n",
       "4                   VMC              Approach  Probable Cause       16-04-1980  \n",
       "...                 ...                   ...             ...              ...  \n",
       "88884               NaN                   NaN             NaN       29-12-2022  \n",
       "88885               NaN                   NaN             NaN              NaN  \n",
       "88886               VMC                   NaN             NaN       27-12-2022  \n",
       "88887               NaN                   NaN             NaN              NaN  \n",
       "88888               NaN                   NaN             NaN       30-12-2022  \n",
       "\n",
       "[88889 rows x 31 columns]"
      ]
     },
     "execution_count": 85,
     "metadata": {},
     "output_type": "execute_result"
    }
   ],
   "source": [
    "df = pd.read_csv(INPUT_PATH, encoding=\"latin-1\")\n",
    "df"
   ]
  },
  {
   "cell_type": "code",
   "execution_count": 86,
   "metadata": {
    "scrolled": true
   },
   "outputs": [
    {
     "name": "stdout",
     "output_type": "stream",
     "text": [
      "<class 'pandas.core.frame.DataFrame'>\n",
      "RangeIndex: 88889 entries, 0 to 88888\n",
      "Data columns (total 31 columns):\n",
      " #   Column                  Non-Null Count  Dtype  \n",
      "---  ------                  --------------  -----  \n",
      " 0   Event.Id                88889 non-null  object \n",
      " 1   Investigation.Type      88889 non-null  object \n",
      " 2   Accident.Number         88889 non-null  object \n",
      " 3   Event.Date              88889 non-null  object \n",
      " 4   Location                88837 non-null  object \n",
      " 5   Country                 88663 non-null  object \n",
      " 6   Latitude                34382 non-null  object \n",
      " 7   Longitude               34373 non-null  object \n",
      " 8   Airport.Code            50132 non-null  object \n",
      " 9   Airport.Name            52704 non-null  object \n",
      " 10  Injury.Severity         87889 non-null  object \n",
      " 11  Aircraft.damage         85695 non-null  object \n",
      " 12  Aircraft.Category       32287 non-null  object \n",
      " 13  Registration.Number     87507 non-null  object \n",
      " 14  Make                    88826 non-null  object \n",
      " 15  Model                   88797 non-null  object \n",
      " 16  Amateur.Built           88787 non-null  object \n",
      " 17  Number.of.Engines       82805 non-null  float64\n",
      " 18  Engine.Type             81793 non-null  object \n",
      " 19  FAR.Description         32023 non-null  object \n",
      " 20  Schedule                12582 non-null  object \n",
      " 21  Purpose.of.flight       82697 non-null  object \n",
      " 22  Air.carrier             16648 non-null  object \n",
      " 23  Total.Fatal.Injuries    77488 non-null  float64\n",
      " 24  Total.Serious.Injuries  76379 non-null  float64\n",
      " 25  Total.Minor.Injuries    76956 non-null  float64\n",
      " 26  Total.Uninjured         82977 non-null  float64\n",
      " 27  Weather.Condition       84397 non-null  object \n",
      " 28  Broad.phase.of.flight   61724 non-null  object \n",
      " 29  Report.Status           82505 non-null  object \n",
      " 30  Publication.Date        75118 non-null  object \n",
      "dtypes: float64(5), object(26)\n",
      "memory usage: 21.0+ MB\n"
     ]
    }
   ],
   "source": [
    "df.info()"
   ]
  },
  {
   "cell_type": "code",
   "execution_count": 87,
   "metadata": {},
   "outputs": [
    {
     "data": {
      "text/plain": [
       "Index(['Event.Id', 'Investigation.Type', 'Accident.Number', 'Event.Date',\n",
       "       'Location', 'Country', 'Latitude', 'Longitude', 'Airport.Code',\n",
       "       'Airport.Name', 'Injury.Severity', 'Aircraft.damage',\n",
       "       'Aircraft.Category', 'Registration.Number', 'Make', 'Model',\n",
       "       'Amateur.Built', 'Engine.Type', 'FAR.Description', 'Schedule',\n",
       "       'Purpose.of.flight', 'Air.carrier', 'Weather.Condition',\n",
       "       'Broad.phase.of.flight', 'Report.Status', 'Publication.Date'],\n",
       "      dtype='object')"
      ]
     },
     "execution_count": 87,
     "metadata": {},
     "output_type": "execute_result"
    }
   ],
   "source": [
    "categorical_columns = df.select_dtypes(include=['object', 'category']).columns\n",
    "categorical_columns"
   ]
  },
  {
   "cell_type": "code",
   "execution_count": 88,
   "metadata": {},
   "outputs": [
    {
     "data": {
      "text/plain": [
       "Index(['Number.of.Engines', 'Total.Fatal.Injuries', 'Total.Serious.Injuries',\n",
       "       'Total.Minor.Injuries', 'Total.Uninjured'],\n",
       "      dtype='object')"
      ]
     },
     "execution_count": 88,
     "metadata": {},
     "output_type": "execute_result"
    }
   ],
   "source": [
    "numerical_columns = df.select_dtypes(include=['float']).columns\n",
    "numerical_columns"
   ]
  },
  {
   "cell_type": "markdown",
   "metadata": {},
   "source": [
    "- The categorial columns are: \n",
    "       'Event.Id', 'Investigation.Type', 'Accident.Number', 'Event.Date',\n",
    "       'Location', 'Country', 'Latitude', 'Longitude', 'Airport.Code',\n",
    "       'Airport.Name', 'Injury.Severity', 'Aircraft.damage',\n",
    "       'Aircraft.Category', 'Registration.Number', 'Make', 'Model',\n",
    "       'Amateur.Built', 'Engine.Type', 'FAR.Description', 'Schedule',\n",
    "       'Purpose.of.flight', 'Air.carrier', 'Weather.Condition',\n",
    "       'Broad.phase.of.flight', 'Report.Status', 'Publication.Date'\n",
    "       \n",
    "- The numerical columns are: \n",
    "       'Number.of.Engines', 'Total.Fatal.Injuries', 'Total.Serious.Injuries',\n",
    "       'Total.Minor.Injuries', 'Total.Uninjured'\n"
   ]
  },
  {
   "cell_type": "markdown",
   "metadata": {},
   "source": [
    "Now, I am going to clean the column names by making them be in lower case and using an underscore"
   ]
  },
  {
   "cell_type": "code",
   "execution_count": 89,
   "metadata": {},
   "outputs": [
    {
     "data": {
      "text/plain": [
       "Index(['event_id', 'investigation_type', 'accident_number', 'event_date',\n",
       "       'location', 'country', 'latitude', 'longitude', 'airport_code',\n",
       "       'airport_name', 'injury_severity', 'aircraft_damage',\n",
       "       'aircraft_category', 'registration_number', 'make', 'model',\n",
       "       'amateur_built', 'number_of_engines', 'engine_type', 'far_description',\n",
       "       'schedule', 'purpose_of_flight', 'air_carrier', 'total_fatal_injuries',\n",
       "       'total_serious_injuries', 'total_minor_injuries', 'total_uninjured',\n",
       "       'weather_condition', 'broad_phase_of_flight', 'report_status',\n",
       "       'publication_date'],\n",
       "      dtype='object')"
      ]
     },
     "execution_count": 89,
     "metadata": {},
     "output_type": "execute_result"
    }
   ],
   "source": [
    "df.columns = df.columns.str.lower().str.replace('.', '_')\n",
    "df.columns"
   ]
  },
  {
   "cell_type": "code",
   "execution_count": 90,
   "metadata": {
    "scrolled": true
   },
   "outputs": [
    {
     "data": {
      "text/html": [
       "<div>\n",
       "<style scoped>\n",
       "    .dataframe tbody tr th:only-of-type {\n",
       "        vertical-align: middle;\n",
       "    }\n",
       "\n",
       "    .dataframe tbody tr th {\n",
       "        vertical-align: top;\n",
       "    }\n",
       "\n",
       "    .dataframe thead th {\n",
       "        text-align: right;\n",
       "    }\n",
       "</style>\n",
       "<table border=\"1\" class=\"dataframe\">\n",
       "  <thead>\n",
       "    <tr style=\"text-align: right;\">\n",
       "      <th></th>\n",
       "      <th>event_id</th>\n",
       "      <th>investigation_type</th>\n",
       "      <th>accident_number</th>\n",
       "      <th>event_date</th>\n",
       "      <th>location</th>\n",
       "      <th>country</th>\n",
       "      <th>latitude</th>\n",
       "      <th>longitude</th>\n",
       "      <th>airport_code</th>\n",
       "      <th>airport_name</th>\n",
       "      <th>injury_severity</th>\n",
       "      <th>aircraft_damage</th>\n",
       "      <th>aircraft_category</th>\n",
       "      <th>registration_number</th>\n",
       "      <th>make</th>\n",
       "      <th>model</th>\n",
       "      <th>amateur_built</th>\n",
       "      <th>number_of_engines</th>\n",
       "      <th>engine_type</th>\n",
       "      <th>far_description</th>\n",
       "      <th>schedule</th>\n",
       "      <th>purpose_of_flight</th>\n",
       "      <th>air_carrier</th>\n",
       "      <th>total_fatal_injuries</th>\n",
       "      <th>total_serious_injuries</th>\n",
       "      <th>total_minor_injuries</th>\n",
       "      <th>total_uninjured</th>\n",
       "      <th>weather_condition</th>\n",
       "      <th>broad_phase_of_flight</th>\n",
       "      <th>report_status</th>\n",
       "      <th>publication_date</th>\n",
       "    </tr>\n",
       "  </thead>\n",
       "  <tbody>\n",
       "    <tr>\n",
       "      <th>0</th>\n",
       "      <td>20001218X45444</td>\n",
       "      <td>Accident</td>\n",
       "      <td>SEA87LA080</td>\n",
       "      <td>1948-10-24</td>\n",
       "      <td>MOOSE CREEK, ID</td>\n",
       "      <td>United States</td>\n",
       "      <td>NaN</td>\n",
       "      <td>NaN</td>\n",
       "      <td>NaN</td>\n",
       "      <td>NaN</td>\n",
       "      <td>Fatal(2)</td>\n",
       "      <td>Destroyed</td>\n",
       "      <td>NaN</td>\n",
       "      <td>NC6404</td>\n",
       "      <td>Stinson</td>\n",
       "      <td>108-3</td>\n",
       "      <td>No</td>\n",
       "      <td>1.0</td>\n",
       "      <td>Reciprocating</td>\n",
       "      <td>NaN</td>\n",
       "      <td>NaN</td>\n",
       "      <td>Personal</td>\n",
       "      <td>NaN</td>\n",
       "      <td>2.0</td>\n",
       "      <td>0.0</td>\n",
       "      <td>0.0</td>\n",
       "      <td>0.0</td>\n",
       "      <td>UNK</td>\n",
       "      <td>Cruise</td>\n",
       "      <td>Probable Cause</td>\n",
       "      <td>NaN</td>\n",
       "    </tr>\n",
       "    <tr>\n",
       "      <th>1</th>\n",
       "      <td>20001218X45447</td>\n",
       "      <td>Accident</td>\n",
       "      <td>LAX94LA336</td>\n",
       "      <td>1962-07-19</td>\n",
       "      <td>BRIDGEPORT, CA</td>\n",
       "      <td>United States</td>\n",
       "      <td>NaN</td>\n",
       "      <td>NaN</td>\n",
       "      <td>NaN</td>\n",
       "      <td>NaN</td>\n",
       "      <td>Fatal(4)</td>\n",
       "      <td>Destroyed</td>\n",
       "      <td>NaN</td>\n",
       "      <td>N5069P</td>\n",
       "      <td>Piper</td>\n",
       "      <td>PA24-180</td>\n",
       "      <td>No</td>\n",
       "      <td>1.0</td>\n",
       "      <td>Reciprocating</td>\n",
       "      <td>NaN</td>\n",
       "      <td>NaN</td>\n",
       "      <td>Personal</td>\n",
       "      <td>NaN</td>\n",
       "      <td>4.0</td>\n",
       "      <td>0.0</td>\n",
       "      <td>0.0</td>\n",
       "      <td>0.0</td>\n",
       "      <td>UNK</td>\n",
       "      <td>Unknown</td>\n",
       "      <td>Probable Cause</td>\n",
       "      <td>19-09-1996</td>\n",
       "    </tr>\n",
       "    <tr>\n",
       "      <th>2</th>\n",
       "      <td>20061025X01555</td>\n",
       "      <td>Accident</td>\n",
       "      <td>NYC07LA005</td>\n",
       "      <td>1974-08-30</td>\n",
       "      <td>Saltville, VA</td>\n",
       "      <td>United States</td>\n",
       "      <td>36.922223</td>\n",
       "      <td>-81.878056</td>\n",
       "      <td>NaN</td>\n",
       "      <td>NaN</td>\n",
       "      <td>Fatal(3)</td>\n",
       "      <td>Destroyed</td>\n",
       "      <td>NaN</td>\n",
       "      <td>N5142R</td>\n",
       "      <td>Cessna</td>\n",
       "      <td>172M</td>\n",
       "      <td>No</td>\n",
       "      <td>1.0</td>\n",
       "      <td>Reciprocating</td>\n",
       "      <td>NaN</td>\n",
       "      <td>NaN</td>\n",
       "      <td>Personal</td>\n",
       "      <td>NaN</td>\n",
       "      <td>3.0</td>\n",
       "      <td>NaN</td>\n",
       "      <td>NaN</td>\n",
       "      <td>NaN</td>\n",
       "      <td>IMC</td>\n",
       "      <td>Cruise</td>\n",
       "      <td>Probable Cause</td>\n",
       "      <td>26-02-2007</td>\n",
       "    </tr>\n",
       "    <tr>\n",
       "      <th>3</th>\n",
       "      <td>20001218X45448</td>\n",
       "      <td>Accident</td>\n",
       "      <td>LAX96LA321</td>\n",
       "      <td>1977-06-19</td>\n",
       "      <td>EUREKA, CA</td>\n",
       "      <td>United States</td>\n",
       "      <td>NaN</td>\n",
       "      <td>NaN</td>\n",
       "      <td>NaN</td>\n",
       "      <td>NaN</td>\n",
       "      <td>Fatal(2)</td>\n",
       "      <td>Destroyed</td>\n",
       "      <td>NaN</td>\n",
       "      <td>N1168J</td>\n",
       "      <td>Rockwell</td>\n",
       "      <td>112</td>\n",
       "      <td>No</td>\n",
       "      <td>1.0</td>\n",
       "      <td>Reciprocating</td>\n",
       "      <td>NaN</td>\n",
       "      <td>NaN</td>\n",
       "      <td>Personal</td>\n",
       "      <td>NaN</td>\n",
       "      <td>2.0</td>\n",
       "      <td>0.0</td>\n",
       "      <td>0.0</td>\n",
       "      <td>0.0</td>\n",
       "      <td>IMC</td>\n",
       "      <td>Cruise</td>\n",
       "      <td>Probable Cause</td>\n",
       "      <td>12-09-2000</td>\n",
       "    </tr>\n",
       "    <tr>\n",
       "      <th>4</th>\n",
       "      <td>20041105X01764</td>\n",
       "      <td>Accident</td>\n",
       "      <td>CHI79FA064</td>\n",
       "      <td>1979-08-02</td>\n",
       "      <td>Canton, OH</td>\n",
       "      <td>United States</td>\n",
       "      <td>NaN</td>\n",
       "      <td>NaN</td>\n",
       "      <td>NaN</td>\n",
       "      <td>NaN</td>\n",
       "      <td>Fatal(1)</td>\n",
       "      <td>Destroyed</td>\n",
       "      <td>NaN</td>\n",
       "      <td>N15NY</td>\n",
       "      <td>Cessna</td>\n",
       "      <td>501</td>\n",
       "      <td>No</td>\n",
       "      <td>NaN</td>\n",
       "      <td>NaN</td>\n",
       "      <td>NaN</td>\n",
       "      <td>NaN</td>\n",
       "      <td>Personal</td>\n",
       "      <td>NaN</td>\n",
       "      <td>1.0</td>\n",
       "      <td>2.0</td>\n",
       "      <td>NaN</td>\n",
       "      <td>0.0</td>\n",
       "      <td>VMC</td>\n",
       "      <td>Approach</td>\n",
       "      <td>Probable Cause</td>\n",
       "      <td>16-04-1980</td>\n",
       "    </tr>\n",
       "    <tr>\n",
       "      <th>...</th>\n",
       "      <td>...</td>\n",
       "      <td>...</td>\n",
       "      <td>...</td>\n",
       "      <td>...</td>\n",
       "      <td>...</td>\n",
       "      <td>...</td>\n",
       "      <td>...</td>\n",
       "      <td>...</td>\n",
       "      <td>...</td>\n",
       "      <td>...</td>\n",
       "      <td>...</td>\n",
       "      <td>...</td>\n",
       "      <td>...</td>\n",
       "      <td>...</td>\n",
       "      <td>...</td>\n",
       "      <td>...</td>\n",
       "      <td>...</td>\n",
       "      <td>...</td>\n",
       "      <td>...</td>\n",
       "      <td>...</td>\n",
       "      <td>...</td>\n",
       "      <td>...</td>\n",
       "      <td>...</td>\n",
       "      <td>...</td>\n",
       "      <td>...</td>\n",
       "      <td>...</td>\n",
       "      <td>...</td>\n",
       "      <td>...</td>\n",
       "      <td>...</td>\n",
       "      <td>...</td>\n",
       "      <td>...</td>\n",
       "    </tr>\n",
       "    <tr>\n",
       "      <th>88884</th>\n",
       "      <td>20221227106491</td>\n",
       "      <td>Accident</td>\n",
       "      <td>ERA23LA093</td>\n",
       "      <td>2022-12-26</td>\n",
       "      <td>Annapolis, MD</td>\n",
       "      <td>United States</td>\n",
       "      <td>NaN</td>\n",
       "      <td>NaN</td>\n",
       "      <td>NaN</td>\n",
       "      <td>NaN</td>\n",
       "      <td>Minor</td>\n",
       "      <td>NaN</td>\n",
       "      <td>NaN</td>\n",
       "      <td>N1867H</td>\n",
       "      <td>PIPER</td>\n",
       "      <td>PA-28-151</td>\n",
       "      <td>No</td>\n",
       "      <td>NaN</td>\n",
       "      <td>NaN</td>\n",
       "      <td>091</td>\n",
       "      <td>NaN</td>\n",
       "      <td>Personal</td>\n",
       "      <td>NaN</td>\n",
       "      <td>0.0</td>\n",
       "      <td>1.0</td>\n",
       "      <td>0.0</td>\n",
       "      <td>0.0</td>\n",
       "      <td>NaN</td>\n",
       "      <td>NaN</td>\n",
       "      <td>NaN</td>\n",
       "      <td>29-12-2022</td>\n",
       "    </tr>\n",
       "    <tr>\n",
       "      <th>88885</th>\n",
       "      <td>20221227106494</td>\n",
       "      <td>Accident</td>\n",
       "      <td>ERA23LA095</td>\n",
       "      <td>2022-12-26</td>\n",
       "      <td>Hampton, NH</td>\n",
       "      <td>United States</td>\n",
       "      <td>NaN</td>\n",
       "      <td>NaN</td>\n",
       "      <td>NaN</td>\n",
       "      <td>NaN</td>\n",
       "      <td>NaN</td>\n",
       "      <td>NaN</td>\n",
       "      <td>NaN</td>\n",
       "      <td>N2895Z</td>\n",
       "      <td>BELLANCA</td>\n",
       "      <td>7ECA</td>\n",
       "      <td>No</td>\n",
       "      <td>NaN</td>\n",
       "      <td>NaN</td>\n",
       "      <td>NaN</td>\n",
       "      <td>NaN</td>\n",
       "      <td>NaN</td>\n",
       "      <td>NaN</td>\n",
       "      <td>0.0</td>\n",
       "      <td>0.0</td>\n",
       "      <td>0.0</td>\n",
       "      <td>0.0</td>\n",
       "      <td>NaN</td>\n",
       "      <td>NaN</td>\n",
       "      <td>NaN</td>\n",
       "      <td>NaN</td>\n",
       "    </tr>\n",
       "    <tr>\n",
       "      <th>88886</th>\n",
       "      <td>20221227106497</td>\n",
       "      <td>Accident</td>\n",
       "      <td>WPR23LA075</td>\n",
       "      <td>2022-12-26</td>\n",
       "      <td>Payson, AZ</td>\n",
       "      <td>United States</td>\n",
       "      <td>341525N</td>\n",
       "      <td>1112021W</td>\n",
       "      <td>PAN</td>\n",
       "      <td>PAYSON</td>\n",
       "      <td>Non-Fatal</td>\n",
       "      <td>Substantial</td>\n",
       "      <td>Airplane</td>\n",
       "      <td>N749PJ</td>\n",
       "      <td>AMERICAN CHAMPION AIRCRAFT</td>\n",
       "      <td>8GCBC</td>\n",
       "      <td>No</td>\n",
       "      <td>1.0</td>\n",
       "      <td>NaN</td>\n",
       "      <td>091</td>\n",
       "      <td>NaN</td>\n",
       "      <td>Personal</td>\n",
       "      <td>NaN</td>\n",
       "      <td>0.0</td>\n",
       "      <td>0.0</td>\n",
       "      <td>0.0</td>\n",
       "      <td>1.0</td>\n",
       "      <td>VMC</td>\n",
       "      <td>NaN</td>\n",
       "      <td>NaN</td>\n",
       "      <td>27-12-2022</td>\n",
       "    </tr>\n",
       "    <tr>\n",
       "      <th>88887</th>\n",
       "      <td>20221227106498</td>\n",
       "      <td>Accident</td>\n",
       "      <td>WPR23LA076</td>\n",
       "      <td>2022-12-26</td>\n",
       "      <td>Morgan, UT</td>\n",
       "      <td>United States</td>\n",
       "      <td>NaN</td>\n",
       "      <td>NaN</td>\n",
       "      <td>NaN</td>\n",
       "      <td>NaN</td>\n",
       "      <td>NaN</td>\n",
       "      <td>NaN</td>\n",
       "      <td>NaN</td>\n",
       "      <td>N210CU</td>\n",
       "      <td>CESSNA</td>\n",
       "      <td>210N</td>\n",
       "      <td>No</td>\n",
       "      <td>NaN</td>\n",
       "      <td>NaN</td>\n",
       "      <td>091</td>\n",
       "      <td>NaN</td>\n",
       "      <td>Personal</td>\n",
       "      <td>MC CESSNA 210N LLC</td>\n",
       "      <td>0.0</td>\n",
       "      <td>0.0</td>\n",
       "      <td>0.0</td>\n",
       "      <td>0.0</td>\n",
       "      <td>NaN</td>\n",
       "      <td>NaN</td>\n",
       "      <td>NaN</td>\n",
       "      <td>NaN</td>\n",
       "    </tr>\n",
       "    <tr>\n",
       "      <th>88888</th>\n",
       "      <td>20221230106513</td>\n",
       "      <td>Accident</td>\n",
       "      <td>ERA23LA097</td>\n",
       "      <td>2022-12-29</td>\n",
       "      <td>Athens, GA</td>\n",
       "      <td>United States</td>\n",
       "      <td>NaN</td>\n",
       "      <td>NaN</td>\n",
       "      <td>NaN</td>\n",
       "      <td>NaN</td>\n",
       "      <td>Minor</td>\n",
       "      <td>NaN</td>\n",
       "      <td>NaN</td>\n",
       "      <td>N9026P</td>\n",
       "      <td>PIPER</td>\n",
       "      <td>PA-24-260</td>\n",
       "      <td>No</td>\n",
       "      <td>NaN</td>\n",
       "      <td>NaN</td>\n",
       "      <td>091</td>\n",
       "      <td>NaN</td>\n",
       "      <td>Personal</td>\n",
       "      <td>NaN</td>\n",
       "      <td>0.0</td>\n",
       "      <td>1.0</td>\n",
       "      <td>0.0</td>\n",
       "      <td>1.0</td>\n",
       "      <td>NaN</td>\n",
       "      <td>NaN</td>\n",
       "      <td>NaN</td>\n",
       "      <td>30-12-2022</td>\n",
       "    </tr>\n",
       "  </tbody>\n",
       "</table>\n",
       "<p>88889 rows × 31 columns</p>\n",
       "</div>"
      ],
      "text/plain": [
       "             event_id investigation_type accident_number  event_date  \\\n",
       "0      20001218X45444           Accident      SEA87LA080  1948-10-24   \n",
       "1      20001218X45447           Accident      LAX94LA336  1962-07-19   \n",
       "2      20061025X01555           Accident      NYC07LA005  1974-08-30   \n",
       "3      20001218X45448           Accident      LAX96LA321  1977-06-19   \n",
       "4      20041105X01764           Accident      CHI79FA064  1979-08-02   \n",
       "...               ...                ...             ...         ...   \n",
       "88884  20221227106491           Accident      ERA23LA093  2022-12-26   \n",
       "88885  20221227106494           Accident      ERA23LA095  2022-12-26   \n",
       "88886  20221227106497           Accident      WPR23LA075  2022-12-26   \n",
       "88887  20221227106498           Accident      WPR23LA076  2022-12-26   \n",
       "88888  20221230106513           Accident      ERA23LA097  2022-12-29   \n",
       "\n",
       "              location        country   latitude  longitude airport_code  \\\n",
       "0      MOOSE CREEK, ID  United States        NaN        NaN          NaN   \n",
       "1       BRIDGEPORT, CA  United States        NaN        NaN          NaN   \n",
       "2        Saltville, VA  United States  36.922223 -81.878056          NaN   \n",
       "3           EUREKA, CA  United States        NaN        NaN          NaN   \n",
       "4           Canton, OH  United States        NaN        NaN          NaN   \n",
       "...                ...            ...        ...        ...          ...   \n",
       "88884    Annapolis, MD  United States        NaN        NaN          NaN   \n",
       "88885      Hampton, NH  United States        NaN        NaN          NaN   \n",
       "88886       Payson, AZ  United States    341525N   1112021W          PAN   \n",
       "88887       Morgan, UT  United States        NaN        NaN          NaN   \n",
       "88888       Athens, GA  United States        NaN        NaN          NaN   \n",
       "\n",
       "      airport_name injury_severity aircraft_damage aircraft_category  \\\n",
       "0              NaN        Fatal(2)       Destroyed               NaN   \n",
       "1              NaN        Fatal(4)       Destroyed               NaN   \n",
       "2              NaN        Fatal(3)       Destroyed               NaN   \n",
       "3              NaN        Fatal(2)       Destroyed               NaN   \n",
       "4              NaN        Fatal(1)       Destroyed               NaN   \n",
       "...            ...             ...             ...               ...   \n",
       "88884          NaN           Minor             NaN               NaN   \n",
       "88885          NaN             NaN             NaN               NaN   \n",
       "88886       PAYSON       Non-Fatal     Substantial          Airplane   \n",
       "88887          NaN             NaN             NaN               NaN   \n",
       "88888          NaN           Minor             NaN               NaN   \n",
       "\n",
       "      registration_number                        make      model  \\\n",
       "0                  NC6404                     Stinson      108-3   \n",
       "1                  N5069P                       Piper   PA24-180   \n",
       "2                  N5142R                      Cessna       172M   \n",
       "3                  N1168J                    Rockwell        112   \n",
       "4                   N15NY                      Cessna        501   \n",
       "...                   ...                         ...        ...   \n",
       "88884              N1867H                       PIPER  PA-28-151   \n",
       "88885              N2895Z                    BELLANCA       7ECA   \n",
       "88886              N749PJ  AMERICAN CHAMPION AIRCRAFT      8GCBC   \n",
       "88887              N210CU                      CESSNA       210N   \n",
       "88888              N9026P                       PIPER  PA-24-260   \n",
       "\n",
       "      amateur_built  number_of_engines    engine_type far_description  \\\n",
       "0                No                1.0  Reciprocating             NaN   \n",
       "1                No                1.0  Reciprocating             NaN   \n",
       "2                No                1.0  Reciprocating             NaN   \n",
       "3                No                1.0  Reciprocating             NaN   \n",
       "4                No                NaN            NaN             NaN   \n",
       "...             ...                ...            ...             ...   \n",
       "88884            No                NaN            NaN             091   \n",
       "88885            No                NaN            NaN             NaN   \n",
       "88886            No                1.0            NaN             091   \n",
       "88887            No                NaN            NaN             091   \n",
       "88888            No                NaN            NaN             091   \n",
       "\n",
       "      schedule purpose_of_flight         air_carrier  total_fatal_injuries  \\\n",
       "0          NaN          Personal                 NaN                   2.0   \n",
       "1          NaN          Personal                 NaN                   4.0   \n",
       "2          NaN          Personal                 NaN                   3.0   \n",
       "3          NaN          Personal                 NaN                   2.0   \n",
       "4          NaN          Personal                 NaN                   1.0   \n",
       "...        ...               ...                 ...                   ...   \n",
       "88884      NaN          Personal                 NaN                   0.0   \n",
       "88885      NaN               NaN                 NaN                   0.0   \n",
       "88886      NaN          Personal                 NaN                   0.0   \n",
       "88887      NaN          Personal  MC CESSNA 210N LLC                   0.0   \n",
       "88888      NaN          Personal                 NaN                   0.0   \n",
       "\n",
       "       total_serious_injuries  total_minor_injuries  total_uninjured  \\\n",
       "0                         0.0                   0.0              0.0   \n",
       "1                         0.0                   0.0              0.0   \n",
       "2                         NaN                   NaN              NaN   \n",
       "3                         0.0                   0.0              0.0   \n",
       "4                         2.0                   NaN              0.0   \n",
       "...                       ...                   ...              ...   \n",
       "88884                     1.0                   0.0              0.0   \n",
       "88885                     0.0                   0.0              0.0   \n",
       "88886                     0.0                   0.0              1.0   \n",
       "88887                     0.0                   0.0              0.0   \n",
       "88888                     1.0                   0.0              1.0   \n",
       "\n",
       "      weather_condition broad_phase_of_flight   report_status publication_date  \n",
       "0                   UNK                Cruise  Probable Cause              NaN  \n",
       "1                   UNK               Unknown  Probable Cause       19-09-1996  \n",
       "2                   IMC                Cruise  Probable Cause       26-02-2007  \n",
       "3                   IMC                Cruise  Probable Cause       12-09-2000  \n",
       "4                   VMC              Approach  Probable Cause       16-04-1980  \n",
       "...                 ...                   ...             ...              ...  \n",
       "88884               NaN                   NaN             NaN       29-12-2022  \n",
       "88885               NaN                   NaN             NaN              NaN  \n",
       "88886               VMC                   NaN             NaN       27-12-2022  \n",
       "88887               NaN                   NaN             NaN              NaN  \n",
       "88888               NaN                   NaN             NaN       30-12-2022  \n",
       "\n",
       "[88889 rows x 31 columns]"
      ]
     },
     "execution_count": 90,
     "metadata": {},
     "output_type": "execute_result"
    }
   ],
   "source": [
    "df"
   ]
  },
  {
   "cell_type": "markdown",
   "metadata": {},
   "source": [
    "Checking for duplicates"
   ]
  },
  {
   "cell_type": "code",
   "execution_count": 91,
   "metadata": {},
   "outputs": [
    {
     "data": {
      "text/plain": [
       "0"
      ]
     },
     "execution_count": 91,
     "metadata": {},
     "output_type": "execute_result"
    }
   ],
   "source": [
    "df.duplicated().sum()"
   ]
  },
  {
   "cell_type": "markdown",
   "metadata": {},
   "source": [
    "Checking for null values"
   ]
  },
  {
   "cell_type": "code",
   "execution_count": 92,
   "metadata": {},
   "outputs": [
    {
     "data": {
      "text/plain": [
       "event_id                   0.000000\n",
       "investigation_type         0.000000\n",
       "accident_number            0.000000\n",
       "event_date                 0.000000\n",
       "location                   0.058500\n",
       "country                    0.254250\n",
       "latitude                  61.320298\n",
       "longitude                 61.330423\n",
       "airport_code              43.601570\n",
       "airport_name              40.708074\n",
       "injury_severity            1.124999\n",
       "aircraft_damage            3.593246\n",
       "aircraft_category         63.677170\n",
       "registration_number        1.554748\n",
       "make                       0.070875\n",
       "model                      0.103500\n",
       "amateur_built              0.114750\n",
       "number_of_engines          6.844491\n",
       "engine_type                7.982990\n",
       "far_description           63.974170\n",
       "schedule                  85.845268\n",
       "purpose_of_flight          6.965991\n",
       "air_carrier               81.271023\n",
       "total_fatal_injuries      12.826109\n",
       "total_serious_injuries    14.073732\n",
       "total_minor_injuries      13.424608\n",
       "total_uninjured            6.650992\n",
       "weather_condition          5.053494\n",
       "broad_phase_of_flight     30.560587\n",
       "report_status              7.181991\n",
       "publication_date          15.492356\n",
       "dtype: float64"
      ]
     },
     "execution_count": 92,
     "metadata": {},
     "output_type": "execute_result"
    }
   ],
   "source": [
    "df.isnull().sum()/len(df)*100"
   ]
  },
  {
   "cell_type": "markdown",
   "metadata": {},
   "source": [
    "I will proceed to create a list to drop certain columns that have too many null values and that I perceive not to be usefull for the analysis"
   ]
  },
  {
   "cell_type": "code",
   "execution_count": 93,
   "metadata": {},
   "outputs": [],
   "source": [
    "drop_columns = ['latitude','longitude','airport_code','airport_name','schedule','air_carrier','publication_date']"
   ]
  },
  {
   "cell_type": "markdown",
   "metadata": {},
   "source": [
    "Now I will study other columns that have a high percent of null values to determine whether they still can give good insights. These columns are: aircraft_category, far_description, and broad_phase_of_flight"
   ]
  },
  {
   "cell_type": "markdown",
   "metadata": {},
   "source": [
    "Aircraft_category"
   ]
  },
  {
   "cell_type": "code",
   "execution_count": 94,
   "metadata": {},
   "outputs": [
    {
     "data": {
      "image/png": "[encoded data removed]",
      "text/plain": [
       "<Figure size 640x480 with 1 Axes>"
      ]
     },
     "metadata": {},
     "output_type": "display_data"
    }
   ],
   "source": [
    "plot_bar_graph_for_columns('aircraft_category')"
   ]
  },
  {
   "cell_type": "markdown",
   "metadata": {},
   "source": [
    "As can be seen most of the aircrafts are airplanes. Given that there 64% of NaN values, I will drop this column too"
   ]
  },
  {
   "cell_type": "code",
   "execution_count": 95,
   "metadata": {},
   "outputs": [],
   "source": [
    "drop_columns = ['latitude','longitude','airport_code','airport_name','schedule','air_carrier','aircraft_category']"
   ]
  },
  {
   "cell_type": "markdown",
   "metadata": {},
   "source": [
    "Far Description column"
   ]
  },
  {
   "cell_type": "code",
   "execution_count": 96,
   "metadata": {},
   "outputs": [
    {
     "data": {
      "image/png": "[encoded data removed]",
      "text/plain": [
       "<Figure size 640x480 with 1 Axes>"
      ]
     },
     "metadata": {},
     "output_type": "display_data"
    }
   ],
   "source": [
    "plot_bar_graph_for_columns('far_description')"
   ]
  },
  {
   "attachments": {
    "Image%20of%20aviation%20norm.png": {
     "image/png": "[encoded data removed]"
    }
   },
   "cell_type": "markdown",
   "metadata": {},
   "source": [
    "I interpret that the 091 and Part 91: General Aviation are the same norm of aviation. Basing myself in these research:\n",
    "\n",
    "https://www.risingup.com/fars/info/\n",
    "\n",
    "![Image%20of%20aviation%20norm.png](attachment:Image%20of%20aviation%20norm.png)\n",
    "\n",
    "I will proceed to join both of these values and print the result"
   ]
  },
  {
   "cell_type": "code",
   "execution_count": 97,
   "metadata": {},
   "outputs": [
    {
     "data": {
      "image/png": "[encoded data removed]",
      "text/plain": [
       "<Figure size 640x480 with 1 Axes>"
      ]
     },
     "metadata": {},
     "output_type": "display_data"
    }
   ],
   "source": [
    "df['far_description'] = df['far_description'].map(lambda x: 'Part 91 - General Aviation' if isinstance(x,str) and '91' in x else x)\n",
    "plot_bar_graph_for_columns('far_description')"
   ]
  },
  {
   "cell_type": "markdown",
   "metadata": {},
   "source": [
    "As is visible, the aircrafts under 91 regulations encompass the most part of the dataset about aviation accidents. Given that the far description has 64% of null values, I will add this column to the drop list"
   ]
  },
  {
   "cell_type": "code",
   "execution_count": 98,
   "metadata": {},
   "outputs": [],
   "source": [
    "drop_columns = ['latitude','longitude','airport_code','airport_name','schedule','air_carrier','aircraft_category','far_description']"
   ]
  },
  {
   "cell_type": "markdown",
   "metadata": {},
   "source": [
    "Broad Phase of Flight"
   ]
  },
  {
   "cell_type": "code",
   "execution_count": 99,
   "metadata": {},
   "outputs": [
    {
     "data": {
      "image/png": "[encoded data removed]",
      "text/plain": [
       "<Figure size 640x480 with 1 Axes>"
      ]
     },
     "metadata": {},
     "output_type": "display_data"
    }
   ],
   "source": [
    "plot_bar_graph_for_columns('broad_phase_of_flight')"
   ]
  },
  {
   "cell_type": "code",
   "execution_count": 100,
   "metadata": {},
   "outputs": [],
   "source": [
    "df['broad_phase_of_flight'].fillna('Unknown', inplace=True)"
   ]
  },
  {
   "cell_type": "markdown",
   "metadata": {},
   "source": [
    "The most important causes of accidents happened either during: landing, takeoff, cruise, maneuvering or approach.\n",
    "I consider 30% of null values to not be too excesive and believe that the 5 phases mentioned before could be of use. I will not drop these columns"
   ]
  },
  {
   "cell_type": "code",
   "execution_count": 101,
   "metadata": {},
   "outputs": [],
   "source": [
    "df = df.drop(drop_columns, axis=1)"
   ]
  },
  {
   "cell_type": "code",
   "execution_count": 102,
   "metadata": {},
   "outputs": [
    {
     "data": {
      "text/plain": [
       "event_id                   0.000000\n",
       "investigation_type         0.000000\n",
       "accident_number            0.000000\n",
       "event_date                 0.000000\n",
       "location                   0.058500\n",
       "country                    0.254250\n",
       "injury_severity            1.124999\n",
       "aircraft_damage            3.593246\n",
       "registration_number        1.554748\n",
       "make                       0.070875\n",
       "model                      0.103500\n",
       "amateur_built              0.114750\n",
       "number_of_engines          6.844491\n",
       "engine_type                7.982990\n",
       "purpose_of_flight          6.965991\n",
       "total_fatal_injuries      12.826109\n",
       "total_serious_injuries    14.073732\n",
       "total_minor_injuries      13.424608\n",
       "total_uninjured            6.650992\n",
       "weather_condition          5.053494\n",
       "broad_phase_of_flight      0.000000\n",
       "report_status              7.181991\n",
       "publication_date          15.492356\n",
       "dtype: float64"
      ]
     },
     "execution_count": 102,
     "metadata": {},
     "output_type": "execute_result"
    }
   ],
   "source": [
    "df.isnull().sum()/len(df)*100"
   ]
  },
  {
   "cell_type": "markdown",
   "metadata": {},
   "source": [
    "Searching for the primary key"
   ]
  },
  {
   "cell_type": "code",
   "execution_count": 103,
   "metadata": {},
   "outputs": [
    {
     "data": {
      "text/plain": [
       "event_id\n",
       "20001212X19172    3\n",
       "20001214X45071    3\n",
       "20220730105623    2\n",
       "20051213X01965    2\n",
       "20001212X16765    2\n",
       "                 ..\n",
       "20001211X14216    1\n",
       "20001211X14239    1\n",
       "20001211X14207    1\n",
       "20001211X14204    1\n",
       "20221230106513    1\n",
       "Name: count, Length: 87951, dtype: int64"
      ]
     },
     "execution_count": 103,
     "metadata": {},
     "output_type": "execute_result"
    }
   ],
   "source": [
    "df['event_id'].value_counts()"
   ]
  },
  {
   "cell_type": "code",
   "execution_count": 104,
   "metadata": {},
   "outputs": [
    {
     "data": {
      "text/plain": [
       "accident_number\n",
       "CEN22LA149    2\n",
       "WPR23LA041    2\n",
       "WPR23LA045    2\n",
       "DCA22WA214    2\n",
       "DCA22WA089    2\n",
       "             ..\n",
       "LAX92FA065    1\n",
       "ANC92T#A12    1\n",
       "MIA92LA049    1\n",
       "NYC92LA048    1\n",
       "ERA23LA097    1\n",
       "Name: count, Length: 88863, dtype: int64"
      ]
     },
     "execution_count": 104,
     "metadata": {},
     "output_type": "execute_result"
    }
   ],
   "source": [
    "df['accident_number'].value_counts()"
   ]
  },
  {
   "cell_type": "code",
   "execution_count": 105,
   "metadata": {},
   "outputs": [
    {
     "data": {
      "text/plain": [
       "registration_number\n",
       "NONE      344\n",
       "UNREG     126\n",
       "UNK        13\n",
       "USAF        9\n",
       "N20752      8\n",
       "         ... \n",
       "N93478      1\n",
       "N519UA      1\n",
       "N8840W      1\n",
       "N21040      1\n",
       "N9026P      1\n",
       "Name: count, Length: 79104, dtype: int64"
      ]
     },
     "execution_count": 105,
     "metadata": {},
     "output_type": "execute_result"
    }
   ],
   "source": [
    "df['registration_number'].value_counts()"
   ]
  },
  {
   "cell_type": "code",
   "execution_count": 106,
   "metadata": {},
   "outputs": [
    {
     "data": {
      "text/html": [
       "<div>\n",
       "<style scoped>\n",
       "    .dataframe tbody tr th:only-of-type {\n",
       "        vertical-align: middle;\n",
       "    }\n",
       "\n",
       "    .dataframe tbody tr th {\n",
       "        vertical-align: top;\n",
       "    }\n",
       "\n",
       "    .dataframe thead th {\n",
       "        text-align: right;\n",
       "    }\n",
       "</style>\n",
       "<table border=\"1\" class=\"dataframe\">\n",
       "  <thead>\n",
       "    <tr style=\"text-align: right;\">\n",
       "      <th></th>\n",
       "      <th>event_id</th>\n",
       "      <th>investigation_type</th>\n",
       "      <th>accident_number</th>\n",
       "      <th>event_date</th>\n",
       "      <th>location</th>\n",
       "      <th>country</th>\n",
       "      <th>injury_severity</th>\n",
       "      <th>aircraft_damage</th>\n",
       "      <th>registration_number</th>\n",
       "      <th>make</th>\n",
       "      <th>model</th>\n",
       "      <th>amateur_built</th>\n",
       "      <th>number_of_engines</th>\n",
       "      <th>engine_type</th>\n",
       "      <th>purpose_of_flight</th>\n",
       "      <th>total_fatal_injuries</th>\n",
       "      <th>total_serious_injuries</th>\n",
       "      <th>total_minor_injuries</th>\n",
       "      <th>total_uninjured</th>\n",
       "      <th>weather_condition</th>\n",
       "      <th>broad_phase_of_flight</th>\n",
       "      <th>report_status</th>\n",
       "      <th>publication_date</th>\n",
       "    </tr>\n",
       "  </thead>\n",
       "  <tbody>\n",
       "    <tr>\n",
       "      <th>87548</th>\n",
       "      <td>20220323104818</td>\n",
       "      <td>Accident</td>\n",
       "      <td>CEN22LA149</td>\n",
       "      <td>2022-03-18</td>\n",
       "      <td>Grapevine, TX</td>\n",
       "      <td>United States</td>\n",
       "      <td>Non-Fatal</td>\n",
       "      <td>Substantial</td>\n",
       "      <td>N78SA</td>\n",
       "      <td>CESSNA</td>\n",
       "      <td>208B</td>\n",
       "      <td>No</td>\n",
       "      <td>1.0</td>\n",
       "      <td>Turbo Prop</td>\n",
       "      <td>Business</td>\n",
       "      <td>0.0</td>\n",
       "      <td>0.0</td>\n",
       "      <td>0.0</td>\n",
       "      <td>2.0</td>\n",
       "      <td>VMC</td>\n",
       "      <td>Unknown</td>\n",
       "      <td>The failure of the pilot of the second aircraf...</td>\n",
       "      <td>05-07-2022</td>\n",
       "    </tr>\n",
       "    <tr>\n",
       "      <th>87549</th>\n",
       "      <td>20220323104818</td>\n",
       "      <td>Accident</td>\n",
       "      <td>CEN22LA149</td>\n",
       "      <td>2022-03-18</td>\n",
       "      <td>Grapevine, TX</td>\n",
       "      <td>United States</td>\n",
       "      <td>Non-Fatal</td>\n",
       "      <td>Substantial</td>\n",
       "      <td>N9469B</td>\n",
       "      <td>CESSNA</td>\n",
       "      <td>208B</td>\n",
       "      <td>No</td>\n",
       "      <td>1.0</td>\n",
       "      <td>Reciprocating</td>\n",
       "      <td>Business</td>\n",
       "      <td>0.0</td>\n",
       "      <td>0.0</td>\n",
       "      <td>0.0</td>\n",
       "      <td>2.0</td>\n",
       "      <td>VMC</td>\n",
       "      <td>Unknown</td>\n",
       "      <td>The failure of the pilot of the second aircraf...</td>\n",
       "      <td>05-07-2022</td>\n",
       "    </tr>\n",
       "  </tbody>\n",
       "</table>\n",
       "</div>"
      ],
      "text/plain": [
       "             event_id investigation_type accident_number  event_date  \\\n",
       "87548  20220323104818           Accident      CEN22LA149  2022-03-18   \n",
       "87549  20220323104818           Accident      CEN22LA149  2022-03-18   \n",
       "\n",
       "            location        country injury_severity aircraft_damage  \\\n",
       "87548  Grapevine, TX  United States       Non-Fatal     Substantial   \n",
       "87549  Grapevine, TX  United States       Non-Fatal     Substantial   \n",
       "\n",
       "      registration_number    make model amateur_built  number_of_engines  \\\n",
       "87548               N78SA  CESSNA  208B            No                1.0   \n",
       "87549              N9469B  CESSNA  208B            No                1.0   \n",
       "\n",
       "         engine_type purpose_of_flight  total_fatal_injuries  \\\n",
       "87548     Turbo Prop          Business                   0.0   \n",
       "87549  Reciprocating          Business                   0.0   \n",
       "\n",
       "       total_serious_injuries  total_minor_injuries  total_uninjured  \\\n",
       "87548                     0.0                   0.0              2.0   \n",
       "87549                     0.0                   0.0              2.0   \n",
       "\n",
       "      weather_condition broad_phase_of_flight  \\\n",
       "87548               VMC               Unknown   \n",
       "87549               VMC               Unknown   \n",
       "\n",
       "                                           report_status publication_date  \n",
       "87548  The failure of the pilot of the second aircraf...       05-07-2022  \n",
       "87549  The failure of the pilot of the second aircraf...       05-07-2022  "
      ]
     },
     "execution_count": 106,
     "metadata": {},
     "output_type": "execute_result"
    }
   ],
   "source": [
    "df[df['accident_number']=='CEN22LA149']"
   ]
  },
  {
   "cell_type": "code",
   "execution_count": 107,
   "metadata": {},
   "outputs": [
    {
     "data": {
      "text/html": [
       "<div>\n",
       "<style scoped>\n",
       "    .dataframe tbody tr th:only-of-type {\n",
       "        vertical-align: middle;\n",
       "    }\n",
       "\n",
       "    .dataframe tbody tr th {\n",
       "        vertical-align: top;\n",
       "    }\n",
       "\n",
       "    .dataframe thead th {\n",
       "        text-align: right;\n",
       "    }\n",
       "</style>\n",
       "<table border=\"1\" class=\"dataframe\">\n",
       "  <thead>\n",
       "    <tr style=\"text-align: right;\">\n",
       "      <th></th>\n",
       "      <th>event_id</th>\n",
       "      <th>investigation_type</th>\n",
       "      <th>accident_number</th>\n",
       "      <th>event_date</th>\n",
       "      <th>location</th>\n",
       "      <th>country</th>\n",
       "      <th>injury_severity</th>\n",
       "      <th>aircraft_damage</th>\n",
       "      <th>registration_number</th>\n",
       "      <th>make</th>\n",
       "      <th>model</th>\n",
       "      <th>amateur_built</th>\n",
       "      <th>number_of_engines</th>\n",
       "      <th>engine_type</th>\n",
       "      <th>purpose_of_flight</th>\n",
       "      <th>total_fatal_injuries</th>\n",
       "      <th>total_serious_injuries</th>\n",
       "      <th>total_minor_injuries</th>\n",
       "      <th>total_uninjured</th>\n",
       "      <th>weather_condition</th>\n",
       "      <th>broad_phase_of_flight</th>\n",
       "      <th>report_status</th>\n",
       "      <th>publication_date</th>\n",
       "      <th>primary_key</th>\n",
       "    </tr>\n",
       "  </thead>\n",
       "  <tbody>\n",
       "    <tr>\n",
       "      <th>0</th>\n",
       "      <td>20001218X45444</td>\n",
       "      <td>Accident</td>\n",
       "      <td>SEA87LA080</td>\n",
       "      <td>1948-10-24</td>\n",
       "      <td>MOOSE CREEK, ID</td>\n",
       "      <td>United States</td>\n",
       "      <td>Fatal(2)</td>\n",
       "      <td>Destroyed</td>\n",
       "      <td>NC6404</td>\n",
       "      <td>Stinson</td>\n",
       "      <td>108-3</td>\n",
       "      <td>No</td>\n",
       "      <td>1.0</td>\n",
       "      <td>Reciprocating</td>\n",
       "      <td>Personal</td>\n",
       "      <td>2.0</td>\n",
       "      <td>0.0</td>\n",
       "      <td>0.0</td>\n",
       "      <td>0.0</td>\n",
       "      <td>UNK</td>\n",
       "      <td>Cruise</td>\n",
       "      <td>Probable Cause</td>\n",
       "      <td>NaN</td>\n",
       "      <td>SEA87LA080_NC6404</td>\n",
       "    </tr>\n",
       "    <tr>\n",
       "      <th>1</th>\n",
       "      <td>20001218X45447</td>\n",
       "      <td>Accident</td>\n",
       "      <td>LAX94LA336</td>\n",
       "      <td>1962-07-19</td>\n",
       "      <td>BRIDGEPORT, CA</td>\n",
       "      <td>United States</td>\n",
       "      <td>Fatal(4)</td>\n",
       "      <td>Destroyed</td>\n",
       "      <td>N5069P</td>\n",
       "      <td>Piper</td>\n",
       "      <td>PA24-180</td>\n",
       "      <td>No</td>\n",
       "      <td>1.0</td>\n",
       "      <td>Reciprocating</td>\n",
       "      <td>Personal</td>\n",
       "      <td>4.0</td>\n",
       "      <td>0.0</td>\n",
       "      <td>0.0</td>\n",
       "      <td>0.0</td>\n",
       "      <td>UNK</td>\n",
       "      <td>Unknown</td>\n",
       "      <td>Probable Cause</td>\n",
       "      <td>19-09-1996</td>\n",
       "      <td>LAX94LA336_N5069P</td>\n",
       "    </tr>\n",
       "    <tr>\n",
       "      <th>2</th>\n",
       "      <td>20061025X01555</td>\n",
       "      <td>Accident</td>\n",
       "      <td>NYC07LA005</td>\n",
       "      <td>1974-08-30</td>\n",
       "      <td>Saltville, VA</td>\n",
       "      <td>United States</td>\n",
       "      <td>Fatal(3)</td>\n",
       "      <td>Destroyed</td>\n",
       "      <td>N5142R</td>\n",
       "      <td>Cessna</td>\n",
       "      <td>172M</td>\n",
       "      <td>No</td>\n",
       "      <td>1.0</td>\n",
       "      <td>Reciprocating</td>\n",
       "      <td>Personal</td>\n",
       "      <td>3.0</td>\n",
       "      <td>NaN</td>\n",
       "      <td>NaN</td>\n",
       "      <td>NaN</td>\n",
       "      <td>IMC</td>\n",
       "      <td>Cruise</td>\n",
       "      <td>Probable Cause</td>\n",
       "      <td>26-02-2007</td>\n",
       "      <td>NYC07LA005_N5142R</td>\n",
       "    </tr>\n",
       "    <tr>\n",
       "      <th>3</th>\n",
       "      <td>20001218X45448</td>\n",
       "      <td>Accident</td>\n",
       "      <td>LAX96LA321</td>\n",
       "      <td>1977-06-19</td>\n",
       "      <td>EUREKA, CA</td>\n",
       "      <td>United States</td>\n",
       "      <td>Fatal(2)</td>\n",
       "      <td>Destroyed</td>\n",
       "      <td>N1168J</td>\n",
       "      <td>Rockwell</td>\n",
       "      <td>112</td>\n",
       "      <td>No</td>\n",
       "      <td>1.0</td>\n",
       "      <td>Reciprocating</td>\n",
       "      <td>Personal</td>\n",
       "      <td>2.0</td>\n",
       "      <td>0.0</td>\n",
       "      <td>0.0</td>\n",
       "      <td>0.0</td>\n",
       "      <td>IMC</td>\n",
       "      <td>Cruise</td>\n",
       "      <td>Probable Cause</td>\n",
       "      <td>12-09-2000</td>\n",
       "      <td>LAX96LA321_N1168J</td>\n",
       "    </tr>\n",
       "    <tr>\n",
       "      <th>4</th>\n",
       "      <td>20041105X01764</td>\n",
       "      <td>Accident</td>\n",
       "      <td>CHI79FA064</td>\n",
       "      <td>1979-08-02</td>\n",
       "      <td>Canton, OH</td>\n",
       "      <td>United States</td>\n",
       "      <td>Fatal(1)</td>\n",
       "      <td>Destroyed</td>\n",
       "      <td>N15NY</td>\n",
       "      <td>Cessna</td>\n",
       "      <td>501</td>\n",
       "      <td>No</td>\n",
       "      <td>NaN</td>\n",
       "      <td>NaN</td>\n",
       "      <td>Personal</td>\n",
       "      <td>1.0</td>\n",
       "      <td>2.0</td>\n",
       "      <td>NaN</td>\n",
       "      <td>0.0</td>\n",
       "      <td>VMC</td>\n",
       "      <td>Approach</td>\n",
       "      <td>Probable Cause</td>\n",
       "      <td>16-04-1980</td>\n",
       "      <td>CHI79FA064_N15NY</td>\n",
       "    </tr>\n",
       "    <tr>\n",
       "      <th>...</th>\n",
       "      <td>...</td>\n",
       "      <td>...</td>\n",
       "      <td>...</td>\n",
       "      <td>...</td>\n",
       "      <td>...</td>\n",
       "      <td>...</td>\n",
       "      <td>...</td>\n",
       "      <td>...</td>\n",
       "      <td>...</td>\n",
       "      <td>...</td>\n",
       "      <td>...</td>\n",
       "      <td>...</td>\n",
       "      <td>...</td>\n",
       "      <td>...</td>\n",
       "      <td>...</td>\n",
       "      <td>...</td>\n",
       "      <td>...</td>\n",
       "      <td>...</td>\n",
       "      <td>...</td>\n",
       "      <td>...</td>\n",
       "      <td>...</td>\n",
       "      <td>...</td>\n",
       "      <td>...</td>\n",
       "      <td>...</td>\n",
       "    </tr>\n",
       "    <tr>\n",
       "      <th>88884</th>\n",
       "      <td>20221227106491</td>\n",
       "      <td>Accident</td>\n",
       "      <td>ERA23LA093</td>\n",
       "      <td>2022-12-26</td>\n",
       "      <td>Annapolis, MD</td>\n",
       "      <td>United States</td>\n",
       "      <td>Minor</td>\n",
       "      <td>NaN</td>\n",
       "      <td>N1867H</td>\n",
       "      <td>PIPER</td>\n",
       "      <td>PA-28-151</td>\n",
       "      <td>No</td>\n",
       "      <td>NaN</td>\n",
       "      <td>NaN</td>\n",
       "      <td>Personal</td>\n",
       "      <td>0.0</td>\n",
       "      <td>1.0</td>\n",
       "      <td>0.0</td>\n",
       "      <td>0.0</td>\n",
       "      <td>NaN</td>\n",
       "      <td>Unknown</td>\n",
       "      <td>NaN</td>\n",
       "      <td>29-12-2022</td>\n",
       "      <td>ERA23LA093_N1867H</td>\n",
       "    </tr>\n",
       "    <tr>\n",
       "      <th>88885</th>\n",
       "      <td>20221227106494</td>\n",
       "      <td>Accident</td>\n",
       "      <td>ERA23LA095</td>\n",
       "      <td>2022-12-26</td>\n",
       "      <td>Hampton, NH</td>\n",
       "      <td>United States</td>\n",
       "      <td>NaN</td>\n",
       "      <td>NaN</td>\n",
       "      <td>N2895Z</td>\n",
       "      <td>BELLANCA</td>\n",
       "      <td>7ECA</td>\n",
       "      <td>No</td>\n",
       "      <td>NaN</td>\n",
       "      <td>NaN</td>\n",
       "      <td>NaN</td>\n",
       "      <td>0.0</td>\n",
       "      <td>0.0</td>\n",
       "      <td>0.0</td>\n",
       "      <td>0.0</td>\n",
       "      <td>NaN</td>\n",
       "      <td>Unknown</td>\n",
       "      <td>NaN</td>\n",
       "      <td>NaN</td>\n",
       "      <td>ERA23LA095_N2895Z</td>\n",
       "    </tr>\n",
       "    <tr>\n",
       "      <th>88886</th>\n",
       "      <td>20221227106497</td>\n",
       "      <td>Accident</td>\n",
       "      <td>WPR23LA075</td>\n",
       "      <td>2022-12-26</td>\n",
       "      <td>Payson, AZ</td>\n",
       "      <td>United States</td>\n",
       "      <td>Non-Fatal</td>\n",
       "      <td>Substantial</td>\n",
       "      <td>N749PJ</td>\n",
       "      <td>AMERICAN CHAMPION AIRCRAFT</td>\n",
       "      <td>8GCBC</td>\n",
       "      <td>No</td>\n",
       "      <td>1.0</td>\n",
       "      <td>NaN</td>\n",
       "      <td>Personal</td>\n",
       "      <td>0.0</td>\n",
       "      <td>0.0</td>\n",
       "      <td>0.0</td>\n",
       "      <td>1.0</td>\n",
       "      <td>VMC</td>\n",
       "      <td>Unknown</td>\n",
       "      <td>NaN</td>\n",
       "      <td>27-12-2022</td>\n",
       "      <td>WPR23LA075_N749PJ</td>\n",
       "    </tr>\n",
       "    <tr>\n",
       "      <th>88887</th>\n",
       "      <td>20221227106498</td>\n",
       "      <td>Accident</td>\n",
       "      <td>WPR23LA076</td>\n",
       "      <td>2022-12-26</td>\n",
       "      <td>Morgan, UT</td>\n",
       "      <td>United States</td>\n",
       "      <td>NaN</td>\n",
       "      <td>NaN</td>\n",
       "      <td>N210CU</td>\n",
       "      <td>CESSNA</td>\n",
       "      <td>210N</td>\n",
       "      <td>No</td>\n",
       "      <td>NaN</td>\n",
       "      <td>NaN</td>\n",
       "      <td>Personal</td>\n",
       "      <td>0.0</td>\n",
       "      <td>0.0</td>\n",
       "      <td>0.0</td>\n",
       "      <td>0.0</td>\n",
       "      <td>NaN</td>\n",
       "      <td>Unknown</td>\n",
       "      <td>NaN</td>\n",
       "      <td>NaN</td>\n",
       "      <td>WPR23LA076_N210CU</td>\n",
       "    </tr>\n",
       "    <tr>\n",
       "      <th>88888</th>\n",
       "      <td>20221230106513</td>\n",
       "      <td>Accident</td>\n",
       "      <td>ERA23LA097</td>\n",
       "      <td>2022-12-29</td>\n",
       "      <td>Athens, GA</td>\n",
       "      <td>United States</td>\n",
       "      <td>Minor</td>\n",
       "      <td>NaN</td>\n",
       "      <td>N9026P</td>\n",
       "      <td>PIPER</td>\n",
       "      <td>PA-24-260</td>\n",
       "      <td>No</td>\n",
       "      <td>NaN</td>\n",
       "      <td>NaN</td>\n",
       "      <td>Personal</td>\n",
       "      <td>0.0</td>\n",
       "      <td>1.0</td>\n",
       "      <td>0.0</td>\n",
       "      <td>1.0</td>\n",
       "      <td>NaN</td>\n",
       "      <td>Unknown</td>\n",
       "      <td>NaN</td>\n",
       "      <td>30-12-2022</td>\n",
       "      <td>ERA23LA097_N9026P</td>\n",
       "    </tr>\n",
       "  </tbody>\n",
       "</table>\n",
       "<p>88889 rows × 24 columns</p>\n",
       "</div>"
      ],
      "text/plain": [
       "             event_id investigation_type accident_number  event_date  \\\n",
       "0      20001218X45444           Accident      SEA87LA080  1948-10-24   \n",
       "1      20001218X45447           Accident      LAX94LA336  1962-07-19   \n",
       "2      20061025X01555           Accident      NYC07LA005  1974-08-30   \n",
       "3      20001218X45448           Accident      LAX96LA321  1977-06-19   \n",
       "4      20041105X01764           Accident      CHI79FA064  1979-08-02   \n",
       "...               ...                ...             ...         ...   \n",
       "88884  20221227106491           Accident      ERA23LA093  2022-12-26   \n",
       "88885  20221227106494           Accident      ERA23LA095  2022-12-26   \n",
       "88886  20221227106497           Accident      WPR23LA075  2022-12-26   \n",
       "88887  20221227106498           Accident      WPR23LA076  2022-12-26   \n",
       "88888  20221230106513           Accident      ERA23LA097  2022-12-29   \n",
       "\n",
       "              location        country injury_severity aircraft_damage  \\\n",
       "0      MOOSE CREEK, ID  United States        Fatal(2)       Destroyed   \n",
       "1       BRIDGEPORT, CA  United States        Fatal(4)       Destroyed   \n",
       "2        Saltville, VA  United States        Fatal(3)       Destroyed   \n",
       "3           EUREKA, CA  United States        Fatal(2)       Destroyed   \n",
       "4           Canton, OH  United States        Fatal(1)       Destroyed   \n",
       "...                ...            ...             ...             ...   \n",
       "88884    Annapolis, MD  United States           Minor             NaN   \n",
       "88885      Hampton, NH  United States             NaN             NaN   \n",
       "88886       Payson, AZ  United States       Non-Fatal     Substantial   \n",
       "88887       Morgan, UT  United States             NaN             NaN   \n",
       "88888       Athens, GA  United States           Minor             NaN   \n",
       "\n",
       "      registration_number                        make      model  \\\n",
       "0                  NC6404                     Stinson      108-3   \n",
       "1                  N5069P                       Piper   PA24-180   \n",
       "2                  N5142R                      Cessna       172M   \n",
       "3                  N1168J                    Rockwell        112   \n",
       "4                   N15NY                      Cessna        501   \n",
       "...                   ...                         ...        ...   \n",
       "88884              N1867H                       PIPER  PA-28-151   \n",
       "88885              N2895Z                    BELLANCA       7ECA   \n",
       "88886              N749PJ  AMERICAN CHAMPION AIRCRAFT      8GCBC   \n",
       "88887              N210CU                      CESSNA       210N   \n",
       "88888              N9026P                       PIPER  PA-24-260   \n",
       "\n",
       "      amateur_built  number_of_engines    engine_type purpose_of_flight  \\\n",
       "0                No                1.0  Reciprocating          Personal   \n",
       "1                No                1.0  Reciprocating          Personal   \n",
       "2                No                1.0  Reciprocating          Personal   \n",
       "3                No                1.0  Reciprocating          Personal   \n",
       "4                No                NaN            NaN          Personal   \n",
       "...             ...                ...            ...               ...   \n",
       "88884            No                NaN            NaN          Personal   \n",
       "88885            No                NaN            NaN               NaN   \n",
       "88886            No                1.0            NaN          Personal   \n",
       "88887            No                NaN            NaN          Personal   \n",
       "88888            No                NaN            NaN          Personal   \n",
       "\n",
       "       total_fatal_injuries  total_serious_injuries  total_minor_injuries  \\\n",
       "0                       2.0                     0.0                   0.0   \n",
       "1                       4.0                     0.0                   0.0   \n",
       "2                       3.0                     NaN                   NaN   \n",
       "3                       2.0                     0.0                   0.0   \n",
       "4                       1.0                     2.0                   NaN   \n",
       "...                     ...                     ...                   ...   \n",
       "88884                   0.0                     1.0                   0.0   \n",
       "88885                   0.0                     0.0                   0.0   \n",
       "88886                   0.0                     0.0                   0.0   \n",
       "88887                   0.0                     0.0                   0.0   \n",
       "88888                   0.0                     1.0                   0.0   \n",
       "\n",
       "       total_uninjured weather_condition broad_phase_of_flight  \\\n",
       "0                  0.0               UNK                Cruise   \n",
       "1                  0.0               UNK               Unknown   \n",
       "2                  NaN               IMC                Cruise   \n",
       "3                  0.0               IMC                Cruise   \n",
       "4                  0.0               VMC              Approach   \n",
       "...                ...               ...                   ...   \n",
       "88884              0.0               NaN               Unknown   \n",
       "88885              0.0               NaN               Unknown   \n",
       "88886              1.0               VMC               Unknown   \n",
       "88887              0.0               NaN               Unknown   \n",
       "88888              1.0               NaN               Unknown   \n",
       "\n",
       "        report_status publication_date        primary_key  \n",
       "0      Probable Cause              NaN  SEA87LA080_NC6404  \n",
       "1      Probable Cause       19-09-1996  LAX94LA336_N5069P  \n",
       "2      Probable Cause       26-02-2007  NYC07LA005_N5142R  \n",
       "3      Probable Cause       12-09-2000  LAX96LA321_N1168J  \n",
       "4      Probable Cause       16-04-1980   CHI79FA064_N15NY  \n",
       "...               ...              ...                ...  \n",
       "88884             NaN       29-12-2022  ERA23LA093_N1867H  \n",
       "88885             NaN              NaN  ERA23LA095_N2895Z  \n",
       "88886             NaN       27-12-2022  WPR23LA075_N749PJ  \n",
       "88887             NaN              NaN  WPR23LA076_N210CU  \n",
       "88888             NaN       30-12-2022  ERA23LA097_N9026P  \n",
       "\n",
       "[88889 rows x 24 columns]"
      ]
     },
     "execution_count": 107,
     "metadata": {},
     "output_type": "execute_result"
    }
   ],
   "source": [
    "df['primary_key'] = df['accident_number'] + '_' + df['registration_number']\n",
    "df"
   ]
  },
  {
   "cell_type": "code",
   "execution_count": 108,
   "metadata": {},
   "outputs": [
    {
     "data": {
      "text/plain": [
       "primary_key\n",
       "SEA87LA080_NC6404     1\n",
       "SEA05CA166_N2094K     1\n",
       "CHI05CA172_N7446      1\n",
       "DEN05CA122_N2584B     1\n",
       "DEN05LA121_N5754S     1\n",
       "                     ..\n",
       "MIA91LA225_N2983U     1\n",
       "ATL91LA180_N62108     1\n",
       "ATL91LA181A_N26004    1\n",
       "ATL91LA181B_N67174    1\n",
       "ERA23LA097_N9026P     1\n",
       "Name: count, Length: 87507, dtype: int64"
      ]
     },
     "execution_count": 108,
     "metadata": {},
     "output_type": "execute_result"
    }
   ],
   "source": [
    "df['primary_key'].value_counts()"
   ]
  },
  {
   "cell_type": "markdown",
   "metadata": {},
   "source": [
    "We haven't found a primary key, but I have created one by combining 2 columns: accident_number and registration_number"
   ]
  },
  {
   "cell_type": "code",
   "execution_count": 109,
   "metadata": {},
   "outputs": [
    {
     "data": {
      "text/html": [
       "<div>\n",
       "<style scoped>\n",
       "    .dataframe tbody tr th:only-of-type {\n",
       "        vertical-align: middle;\n",
       "    }\n",
       "\n",
       "    .dataframe tbody tr th {\n",
       "        vertical-align: top;\n",
       "    }\n",
       "\n",
       "    .dataframe thead th {\n",
       "        text-align: right;\n",
       "    }\n",
       "</style>\n",
       "<table border=\"1\" class=\"dataframe\">\n",
       "  <thead>\n",
       "    <tr style=\"text-align: right;\">\n",
       "      <th></th>\n",
       "      <th>investigation_type</th>\n",
       "      <th>event_date</th>\n",
       "      <th>location</th>\n",
       "      <th>country</th>\n",
       "      <th>injury_severity</th>\n",
       "      <th>aircraft_damage</th>\n",
       "      <th>make</th>\n",
       "      <th>model</th>\n",
       "      <th>amateur_built</th>\n",
       "      <th>number_of_engines</th>\n",
       "      <th>engine_type</th>\n",
       "      <th>purpose_of_flight</th>\n",
       "      <th>total_fatal_injuries</th>\n",
       "      <th>total_serious_injuries</th>\n",
       "      <th>total_minor_injuries</th>\n",
       "      <th>total_uninjured</th>\n",
       "      <th>weather_condition</th>\n",
       "      <th>broad_phase_of_flight</th>\n",
       "      <th>report_status</th>\n",
       "      <th>publication_date</th>\n",
       "      <th>primary_key</th>\n",
       "    </tr>\n",
       "  </thead>\n",
       "  <tbody>\n",
       "    <tr>\n",
       "      <th>0</th>\n",
       "      <td>Accident</td>\n",
       "      <td>1948-10-24</td>\n",
       "      <td>MOOSE CREEK, ID</td>\n",
       "      <td>United States</td>\n",
       "      <td>Fatal(2)</td>\n",
       "      <td>Destroyed</td>\n",
       "      <td>Stinson</td>\n",
       "      <td>108-3</td>\n",
       "      <td>No</td>\n",
       "      <td>1.0</td>\n",
       "      <td>Reciprocating</td>\n",
       "      <td>Personal</td>\n",
       "      <td>2.0</td>\n",
       "      <td>0.0</td>\n",
       "      <td>0.0</td>\n",
       "      <td>0.0</td>\n",
       "      <td>UNK</td>\n",
       "      <td>Cruise</td>\n",
       "      <td>Probable Cause</td>\n",
       "      <td>NaN</td>\n",
       "      <td>SEA87LA080_NC6404</td>\n",
       "    </tr>\n",
       "    <tr>\n",
       "      <th>1</th>\n",
       "      <td>Accident</td>\n",
       "      <td>1962-07-19</td>\n",
       "      <td>BRIDGEPORT, CA</td>\n",
       "      <td>United States</td>\n",
       "      <td>Fatal(4)</td>\n",
       "      <td>Destroyed</td>\n",
       "      <td>Piper</td>\n",
       "      <td>PA24-180</td>\n",
       "      <td>No</td>\n",
       "      <td>1.0</td>\n",
       "      <td>Reciprocating</td>\n",
       "      <td>Personal</td>\n",
       "      <td>4.0</td>\n",
       "      <td>0.0</td>\n",
       "      <td>0.0</td>\n",
       "      <td>0.0</td>\n",
       "      <td>UNK</td>\n",
       "      <td>Unknown</td>\n",
       "      <td>Probable Cause</td>\n",
       "      <td>19-09-1996</td>\n",
       "      <td>LAX94LA336_N5069P</td>\n",
       "    </tr>\n",
       "    <tr>\n",
       "      <th>2</th>\n",
       "      <td>Accident</td>\n",
       "      <td>1974-08-30</td>\n",
       "      <td>Saltville, VA</td>\n",
       "      <td>United States</td>\n",
       "      <td>Fatal(3)</td>\n",
       "      <td>Destroyed</td>\n",
       "      <td>Cessna</td>\n",
       "      <td>172M</td>\n",
       "      <td>No</td>\n",
       "      <td>1.0</td>\n",
       "      <td>Reciprocating</td>\n",
       "      <td>Personal</td>\n",
       "      <td>3.0</td>\n",
       "      <td>NaN</td>\n",
       "      <td>NaN</td>\n",
       "      <td>NaN</td>\n",
       "      <td>IMC</td>\n",
       "      <td>Cruise</td>\n",
       "      <td>Probable Cause</td>\n",
       "      <td>26-02-2007</td>\n",
       "      <td>NYC07LA005_N5142R</td>\n",
       "    </tr>\n",
       "    <tr>\n",
       "      <th>3</th>\n",
       "      <td>Accident</td>\n",
       "      <td>1977-06-19</td>\n",
       "      <td>EUREKA, CA</td>\n",
       "      <td>United States</td>\n",
       "      <td>Fatal(2)</td>\n",
       "      <td>Destroyed</td>\n",
       "      <td>Rockwell</td>\n",
       "      <td>112</td>\n",
       "      <td>No</td>\n",
       "      <td>1.0</td>\n",
       "      <td>Reciprocating</td>\n",
       "      <td>Personal</td>\n",
       "      <td>2.0</td>\n",
       "      <td>0.0</td>\n",
       "      <td>0.0</td>\n",
       "      <td>0.0</td>\n",
       "      <td>IMC</td>\n",
       "      <td>Cruise</td>\n",
       "      <td>Probable Cause</td>\n",
       "      <td>12-09-2000</td>\n",
       "      <td>LAX96LA321_N1168J</td>\n",
       "    </tr>\n",
       "    <tr>\n",
       "      <th>4</th>\n",
       "      <td>Accident</td>\n",
       "      <td>1979-08-02</td>\n",
       "      <td>Canton, OH</td>\n",
       "      <td>United States</td>\n",
       "      <td>Fatal(1)</td>\n",
       "      <td>Destroyed</td>\n",
       "      <td>Cessna</td>\n",
       "      <td>501</td>\n",
       "      <td>No</td>\n",
       "      <td>NaN</td>\n",
       "      <td>NaN</td>\n",
       "      <td>Personal</td>\n",
       "      <td>1.0</td>\n",
       "      <td>2.0</td>\n",
       "      <td>NaN</td>\n",
       "      <td>0.0</td>\n",
       "      <td>VMC</td>\n",
       "      <td>Approach</td>\n",
       "      <td>Probable Cause</td>\n",
       "      <td>16-04-1980</td>\n",
       "      <td>CHI79FA064_N15NY</td>\n",
       "    </tr>\n",
       "  </tbody>\n",
       "</table>\n",
       "</div>"
      ],
      "text/plain": [
       "  investigation_type  event_date         location        country  \\\n",
       "0           Accident  1948-10-24  MOOSE CREEK, ID  United States   \n",
       "1           Accident  1962-07-19   BRIDGEPORT, CA  United States   \n",
       "2           Accident  1974-08-30    Saltville, VA  United States   \n",
       "3           Accident  1977-06-19       EUREKA, CA  United States   \n",
       "4           Accident  1979-08-02       Canton, OH  United States   \n",
       "\n",
       "  injury_severity aircraft_damage      make     model amateur_built  \\\n",
       "0        Fatal(2)       Destroyed   Stinson     108-3            No   \n",
       "1        Fatal(4)       Destroyed     Piper  PA24-180            No   \n",
       "2        Fatal(3)       Destroyed    Cessna      172M            No   \n",
       "3        Fatal(2)       Destroyed  Rockwell       112            No   \n",
       "4        Fatal(1)       Destroyed    Cessna       501            No   \n",
       "\n",
       "   number_of_engines    engine_type purpose_of_flight  total_fatal_injuries  \\\n",
       "0                1.0  Reciprocating          Personal                   2.0   \n",
       "1                1.0  Reciprocating          Personal                   4.0   \n",
       "2                1.0  Reciprocating          Personal                   3.0   \n",
       "3                1.0  Reciprocating          Personal                   2.0   \n",
       "4                NaN            NaN          Personal                   1.0   \n",
       "\n",
       "   total_serious_injuries  total_minor_injuries  total_uninjured  \\\n",
       "0                     0.0                   0.0              0.0   \n",
       "1                     0.0                   0.0              0.0   \n",
       "2                     NaN                   NaN              NaN   \n",
       "3                     0.0                   0.0              0.0   \n",
       "4                     2.0                   NaN              0.0   \n",
       "\n",
       "  weather_condition broad_phase_of_flight   report_status publication_date  \\\n",
       "0               UNK                Cruise  Probable Cause              NaN   \n",
       "1               UNK               Unknown  Probable Cause       19-09-1996   \n",
       "2               IMC                Cruise  Probable Cause       26-02-2007   \n",
       "3               IMC                Cruise  Probable Cause       12-09-2000   \n",
       "4               VMC              Approach  Probable Cause       16-04-1980   \n",
       "\n",
       "         primary_key  \n",
       "0  SEA87LA080_NC6404  \n",
       "1  LAX94LA336_N5069P  \n",
       "2  NYC07LA005_N5142R  \n",
       "3  LAX96LA321_N1168J  \n",
       "4   CHI79FA064_N15NY  "
      ]
     },
     "execution_count": 109,
     "metadata": {},
     "output_type": "execute_result"
    }
   ],
   "source": [
    "df = df.drop(['accident_number', 'registration_number', 'event_id'], axis=1)\n",
    "\n",
    "df.head()"
   ]
  },
  {
   "cell_type": "markdown",
   "metadata": {},
   "source": [
    "Investigation type"
   ]
  },
  {
   "cell_type": "code",
   "execution_count": 110,
   "metadata": {},
   "outputs": [
    {
     "data": {
      "text/plain": [
       "investigation_type\n",
       "Accident    0.956418\n",
       "Incident    0.043582\n",
       "Name: proportion, dtype: float64"
      ]
     },
     "execution_count": 110,
     "metadata": {},
     "output_type": "execute_result"
    }
   ],
   "source": [
    "df['investigation_type'].value_counts(normalize=True)"
   ]
  },
  {
   "cell_type": "code",
   "execution_count": 111,
   "metadata": {},
   "outputs": [
    {
     "data": {
      "text/plain": [
       "0"
      ]
     },
     "execution_count": 111,
     "metadata": {},
     "output_type": "execute_result"
    }
   ],
   "source": [
    "df['investigation_type'].isna().sum()"
   ]
  },
  {
   "cell_type": "markdown",
   "metadata": {},
   "source": [
    "After doing some reasearch, we have noticed that an accident is a unintentional event that results in harm whereas an incident\n",
    "although it might be unintentional doesn't necessarily result in harm\n",
    "\n",
    "Moreover, we can see that all of the registrations in the dataset are all accidents (in 96% of it's totality)"
   ]
  },
  {
   "cell_type": "markdown",
   "metadata": {},
   "source": [
    "Event Date"
   ]
  },
  {
   "cell_type": "code",
   "execution_count": 112,
   "metadata": {},
   "outputs": [
    {
     "data": {
      "text/plain": [
       "'1948-10-24'"
      ]
     },
     "execution_count": 112,
     "metadata": {},
     "output_type": "execute_result"
    }
   ],
   "source": [
    "df['event_date'].min()"
   ]
  },
  {
   "cell_type": "code",
   "execution_count": 113,
   "metadata": {},
   "outputs": [
    {
     "data": {
      "text/plain": [
       "'2022-12-29'"
      ]
     },
     "execution_count": 113,
     "metadata": {},
     "output_type": "execute_result"
    }
   ],
   "source": [
    "df['event_date'].max()"
   ]
  },
  {
   "cell_type": "markdown",
   "metadata": {},
   "source": [
    "We have realized that we have accidents or incidents from 1948 to 2022"
   ]
  },
  {
   "cell_type": "markdown",
   "metadata": {},
   "source": [
    "Country"
   ]
  },
  {
   "cell_type": "code",
   "execution_count": 114,
   "metadata": {},
   "outputs": [
    {
     "data": {
      "text/plain": [
       "country\n",
       "United States                       0.927647\n",
       "Brazil                              0.004218\n",
       "Canada                              0.004049\n",
       "Mexico                              0.004038\n",
       "United Kingdom                      0.003880\n",
       "                                      ...   \n",
       "Seychelles                          0.000011\n",
       "Palau                               0.000011\n",
       "Libya                               0.000011\n",
       "Saint Vincent and the Grenadines    0.000011\n",
       "Turks and Caicos Islands            0.000011\n",
       "Name: proportion, Length: 219, dtype: float64"
      ]
     },
     "execution_count": 114,
     "metadata": {},
     "output_type": "execute_result"
    }
   ],
   "source": [
    "df['country'].value_counts(normalize=True)"
   ]
  },
  {
   "cell_type": "markdown",
   "metadata": {},
   "source": [
    "The majority of the events occur in USA. I will delete the rows where the country is not USA "
   ]
  },
  {
   "cell_type": "code",
   "execution_count": 115,
   "metadata": {},
   "outputs": [],
   "source": [
    "df = df[df['country']=='United States']"
   ]
  },
  {
   "cell_type": "markdown",
   "metadata": {},
   "source": [
    "I decide to group all the categories that are private"
   ]
  },
  {
   "cell_type": "code",
   "execution_count": 116,
   "metadata": {
    "scrolled": true
   },
   "outputs": [
    {
     "data": {
      "text/plain": [
       "injury_severity\n",
       "Non-Fatal      0.789749\n",
       "Fatal(1)       0.071244\n",
       "Fatal          0.043292\n",
       "Fatal(2)       0.041941\n",
       "Incident       0.022803\n",
       "Fatal(3)       0.012381\n",
       "Fatal(4)       0.008632\n",
       "Minor          0.002471\n",
       "Fatal(5)       0.002143\n",
       "Serious        0.001863\n",
       "Fatal(6)       0.001400\n",
       "Fatal(7)       0.000450\n",
       "Fatal(8)       0.000353\n",
       "Fatal(10)      0.000207\n",
       "Unavailable    0.000183\n",
       "Fatal(9)       0.000097\n",
       "Fatal(14)      0.000073\n",
       "Fatal(12)      0.000061\n",
       "Fatal(11)      0.000061\n",
       "Fatal(25)      0.000037\n",
       "Fatal(18)      0.000037\n",
       "Fatal(13)      0.000037\n",
       "Fatal(17)      0.000037\n",
       "Fatal(34)      0.000024\n",
       "Fatal(23)      0.000024\n",
       "Fatal(82)      0.000024\n",
       "Fatal(20)      0.000024\n",
       "Fatal(65)      0.000012\n",
       "Fatal(228)     0.000012\n",
       "Fatal(88)      0.000012\n",
       "Fatal(19)      0.000012\n",
       "Fatal(44)      0.000012\n",
       "Fatal(64)      0.000012\n",
       "Fatal(265)     0.000012\n",
       "Fatal(92)      0.000012\n",
       "Fatal(230)     0.000012\n",
       "Fatal(21)      0.000012\n",
       "Fatal(49)      0.000012\n",
       "Fatal(78)      0.000012\n",
       "Fatal(29)      0.000012\n",
       "Fatal(70)      0.000012\n",
       "Fatal(110)     0.000012\n",
       "Fatal(15)      0.000012\n",
       "Fatal(135)     0.000012\n",
       "Fatal(132)     0.000012\n",
       "Fatal(37)      0.000012\n",
       "Fatal(16)      0.000012\n",
       "Fatal(27)      0.000012\n",
       "Fatal(153)     0.000012\n",
       "Fatal(73)      0.000012\n",
       "Fatal(111)     0.000012\n",
       "Fatal(43)      0.000012\n",
       "Fatal(28)      0.000012\n",
       "Fatal(156)     0.000012\n",
       "Fatal(31)      0.000012\n",
       "Fatal(68)      0.000012\n",
       "Name: proportion, dtype: float64"
      ]
     },
     "execution_count": 116,
     "metadata": {},
     "output_type": "execute_result"
    }
   ],
   "source": [
    "df['injury_severity'].value_counts(normalize=True)"
   ]
  },
  {
   "cell_type": "code",
   "execution_count": 117,
   "metadata": {},
   "outputs": [
    {
     "data": {
      "text/plain": [
       "108"
      ]
     },
     "execution_count": 117,
     "metadata": {},
     "output_type": "execute_result"
    }
   ],
   "source": [
    "df['injury_severity'].isna().sum()"
   ]
  },
  {
   "cell_type": "code",
   "execution_count": 118,
   "metadata": {},
   "outputs": [],
   "source": [
    "df['injury_severity'] = df['injury_severity'].astype('category')"
   ]
  },
  {
   "cell_type": "code",
   "execution_count": 119,
   "metadata": {},
   "outputs": [
    {
     "data": {
      "text/plain": [
       "['Fatal(2)', 'Fatal(4)', 'Fatal(3)', 'Fatal(1)', 'Non-Fatal', ..., 'Fatal(49)', 'Fatal', NaN, 'Minor', 'Serious']\n",
       "Length: 57\n",
       "Categories (56, object): ['Fatal', 'Fatal(1)', 'Fatal(10)', 'Fatal(11)', ..., 'Minor', 'Non-Fatal', 'Serious', 'Unavailable']"
      ]
     },
     "execution_count": 119,
     "metadata": {},
     "output_type": "execute_result"
    }
   ],
   "source": [
    "df['injury_severity'].unique()"
   ]
  },
  {
   "cell_type": "markdown",
   "metadata": {},
   "source": [
    "I am going to group all the Fatal injuries. First I'll change the type of the column to categorical"
   ]
  },
  {
   "cell_type": "code",
   "execution_count": 120,
   "metadata": {},
   "outputs": [],
   "source": [
    "df['injury_severity'] = df['injury_severity'].map(lambda x: 'Fatal' if isinstance(x, str) and 'Fatal' in x else x)"
   ]
  },
  {
   "cell_type": "code",
   "execution_count": 121,
   "metadata": {},
   "outputs": [
    {
     "data": {
      "text/plain": [
       "injury_severity\n",
       "Fatal          0.972681\n",
       "Incident       0.022803\n",
       "Minor          0.002471\n",
       "Serious        0.001863\n",
       "Unavailable    0.000183\n",
       "Name: proportion, dtype: float64"
      ]
     },
     "execution_count": 121,
     "metadata": {},
     "output_type": "execute_result"
    }
   ],
   "source": [
    "df['injury_severity'].value_counts(normalize=True)"
   ]
  },
  {
   "cell_type": "code",
   "execution_count": 122,
   "metadata": {},
   "outputs": [
    {
     "data": {
      "text/plain": [
       "aircraft_damage\n",
       "Substantial    0.768354\n",
       "Destroyed      0.204624\n",
       "Minor          0.026399\n",
       "Unknown        0.000623\n",
       "Name: proportion, dtype: float64"
      ]
     },
     "execution_count": 122,
     "metadata": {},
     "output_type": "execute_result"
    }
   ],
   "source": [
    "df['aircraft_damage'].value_counts(normalize=True)"
   ]
  },
  {
   "cell_type": "code",
   "execution_count": 123,
   "metadata": {},
   "outputs": [],
   "source": [
    "df['aircraft_damage'].fillna('Unknown', inplace=True)"
   ]
  },
  {
   "cell_type": "markdown",
   "metadata": {},
   "source": [
    "As we can see the majority of the damages are substantial"
   ]
  },
  {
   "cell_type": "markdown",
   "metadata": {},
   "source": [
    "I ran the code above to see all the aircraft categories"
   ]
  },
  {
   "cell_type": "code",
   "execution_count": 124,
   "metadata": {},
   "outputs": [
    {
     "data": {
      "text/plain": [
       "make\n",
       "Cessna                0.262359\n",
       "Piper                 0.141815\n",
       "CESSNA                0.052051\n",
       "Beech                 0.050677\n",
       "PIPER                 0.030489\n",
       "                        ...   \n",
       "Steven R. Jackson     0.000012\n",
       "Weste                 0.000012\n",
       "Arthur P. Matthews    0.000012\n",
       "Tolle                 0.000012\n",
       "ROYSE RALPH L         0.000012\n",
       "Name: proportion, Length: 8001, dtype: float64"
      ]
     },
     "execution_count": 124,
     "metadata": {},
     "output_type": "execute_result"
    }
   ],
   "source": [
    "df['make'].value_counts(normalize=True)"
   ]
  },
  {
   "cell_type": "code",
   "execution_count": 125,
   "metadata": {},
   "outputs": [],
   "source": [
    "# Replace null values with 'Unknown'\n",
    "df['make'].fillna('Unknown', inplace=True)"
   ]
  },
  {
   "cell_type": "code",
   "execution_count": 126,
   "metadata": {},
   "outputs": [
    {
     "data": {
      "text/plain": [
       "model\n",
       "152             0.028257\n",
       "172             0.019912\n",
       "172N            0.013818\n",
       "PA-28-140       0.011069\n",
       "150             0.009610\n",
       "                  ...   \n",
       "YAK C-11        0.000012\n",
       "2180A           0.000012\n",
       "B206-BIII       0.000012\n",
       "THORP T18CWS    0.000012\n",
       "PA42            0.000012\n",
       "Name: proportion, Length: 11443, dtype: float64"
      ]
     },
     "execution_count": 126,
     "metadata": {},
     "output_type": "execute_result"
    }
   ],
   "source": [
    "df['model'].value_counts(normalize=True)"
   ]
  },
  {
   "cell_type": "code",
   "execution_count": 127,
   "metadata": {},
   "outputs": [
    {
     "data": {
      "text/plain": [
       "amateur_built\n",
       "No     0.898805\n",
       "Yes    0.101195\n",
       "Name: proportion, dtype: float64"
      ]
     },
     "execution_count": 127,
     "metadata": {},
     "output_type": "execute_result"
    }
   ],
   "source": [
    "df['amateur_built'].value_counts(normalize=True)"
   ]
  },
  {
   "cell_type": "markdown",
   "metadata": {},
   "source": [
    "We can't drive valuable conclusions from 'make', 'model' columns. However, the 'amateur_built' shows clearly that most of the aircrafts were not amateur built"
   ]
  },
  {
   "cell_type": "code",
   "execution_count": 160,
   "metadata": {},
   "outputs": [
    {
     "data": {
      "image/png": "[encoded data removed]",
      "text/plain": [
       "<Figure size 640x480 with 1 Axes>"
      ]
     },
     "metadata": {},
     "output_type": "display_data"
    }
   ],
   "source": [
    "plot_bar_graph_for_columns('amateur_built')"
   ]
  },
  {
   "cell_type": "code",
   "execution_count": 128,
   "metadata": {},
   "outputs": [
    {
     "data": {
      "text/plain": [
       "number_of_engines\n",
       "1.0    0.851094\n",
       "2.0    0.125502\n",
       "0.0    0.013761\n",
       "3.0    0.005362\n",
       "4.0    0.004230\n",
       "8.0    0.000037\n",
       "6.0    0.000012\n",
       "Name: proportion, dtype: float64"
      ]
     },
     "execution_count": 128,
     "metadata": {},
     "output_type": "execute_result"
    }
   ],
   "source": [
    "df['number_of_engines'].value_counts(normalize=True)"
   ]
  },
  {
   "cell_type": "code",
   "execution_count": 129,
   "metadata": {},
   "outputs": [],
   "source": [
    "# I will proceed to replace the null values with the mode\n",
    "df['number_of_engines'].fillna(df['number_of_engines'].mode()[0], inplace=True)"
   ]
  },
  {
   "cell_type": "code",
   "execution_count": 130,
   "metadata": {
    "scrolled": true
   },
   "outputs": [
    {
     "data": {
      "text/plain": [
       "engine_type\n",
       "Reciprocating    0.864922\n",
       "Turbo Shaft      0.042055\n",
       "Turbo Prop       0.040477\n",
       "Turbo Fan        0.026437\n",
       "Unknown          0.017486\n",
       "Turbo Jet        0.008421\n",
       "Electric         0.000126\n",
       "LR               0.000025\n",
       "NONE             0.000025\n",
       "Hybrid Rocket    0.000013\n",
       "UNK              0.000013\n",
       "Name: proportion, dtype: float64"
      ]
     },
     "execution_count": 130,
     "metadata": {},
     "output_type": "execute_result"
    }
   ],
   "source": [
    "df['engine_type'].value_counts(normalize=True)"
   ]
  },
  {
   "cell_type": "code",
   "execution_count": 131,
   "metadata": {},
   "outputs": [
    {
     "data": {
      "text/plain": [
       "investigation_type         0.000000\n",
       "event_date                 0.000000\n",
       "location                   0.013374\n",
       "country                    0.000000\n",
       "injury_severity            0.131310\n",
       "aircraft_damage            0.000000\n",
       "make                       0.000000\n",
       "model                      0.046202\n",
       "amateur_built              0.025533\n",
       "number_of_engines          0.000000\n",
       "engine_type                3.698570\n",
       "purpose_of_flight          2.953263\n",
       "total_fatal_injuries      12.953506\n",
       "total_serious_injuries    13.830124\n",
       "total_minor_injuries      13.044694\n",
       "total_uninjured            6.085254\n",
       "weather_condition          0.784214\n",
       "broad_phase_of_flight      0.000000\n",
       "report_status              3.174545\n",
       "publication_date          15.418004\n",
       "primary_key                0.141037\n",
       "dtype: float64"
      ]
     },
     "execution_count": 131,
     "metadata": {},
     "output_type": "execute_result"
    }
   ],
   "source": [
    "df.isnull().sum()/len(df)*100"
   ]
  },
  {
   "cell_type": "code",
   "execution_count": 132,
   "metadata": {},
   "outputs": [],
   "source": [
    "# Replace unknown values with 'Unknown' and replace na with 'Unknown'\n",
    "\n",
    "df['engine_type'] = df['engine_type'].replace('UNK', 'Unknown')\n",
    "df['engine_type'].fillna('Unknown', inplace=True)"
   ]
  },
  {
   "cell_type": "markdown",
   "metadata": {},
   "source": [
    "It seems that the aircrafts with 1 motor have a higher chance of having an accident\n",
    "Also, it seems that the reciprocating motors have a higher change of having an accident"
   ]
  },
  {
   "cell_type": "code",
   "execution_count": 133,
   "metadata": {
    "scrolled": true
   },
   "outputs": [
    {
     "data": {
      "text/html": [
       "<div>\n",
       "<style scoped>\n",
       "    .dataframe tbody tr th:only-of-type {\n",
       "        vertical-align: middle;\n",
       "    }\n",
       "\n",
       "    .dataframe tbody tr th {\n",
       "        vertical-align: top;\n",
       "    }\n",
       "\n",
       "    .dataframe thead th {\n",
       "        text-align: right;\n",
       "    }\n",
       "</style>\n",
       "<table border=\"1\" class=\"dataframe\">\n",
       "  <thead>\n",
       "    <tr style=\"text-align: right;\">\n",
       "      <th></th>\n",
       "      <th>investigation_type</th>\n",
       "      <th>event_date</th>\n",
       "      <th>location</th>\n",
       "      <th>country</th>\n",
       "      <th>injury_severity</th>\n",
       "      <th>aircraft_damage</th>\n",
       "      <th>make</th>\n",
       "      <th>model</th>\n",
       "      <th>amateur_built</th>\n",
       "      <th>number_of_engines</th>\n",
       "      <th>engine_type</th>\n",
       "      <th>purpose_of_flight</th>\n",
       "      <th>total_fatal_injuries</th>\n",
       "      <th>total_serious_injuries</th>\n",
       "      <th>total_minor_injuries</th>\n",
       "      <th>total_uninjured</th>\n",
       "      <th>weather_condition</th>\n",
       "      <th>broad_phase_of_flight</th>\n",
       "      <th>report_status</th>\n",
       "      <th>publication_date</th>\n",
       "      <th>primary_key</th>\n",
       "    </tr>\n",
       "  </thead>\n",
       "  <tbody>\n",
       "    <tr>\n",
       "      <th>0</th>\n",
       "      <td>Accident</td>\n",
       "      <td>1948-10-24</td>\n",
       "      <td>MOOSE CREEK, ID</td>\n",
       "      <td>United States</td>\n",
       "      <td>Fatal</td>\n",
       "      <td>Destroyed</td>\n",
       "      <td>Stinson</td>\n",
       "      <td>108-3</td>\n",
       "      <td>No</td>\n",
       "      <td>1.0</td>\n",
       "      <td>Reciprocating</td>\n",
       "      <td>Personal</td>\n",
       "      <td>2.0</td>\n",
       "      <td>0.0</td>\n",
       "      <td>0.0</td>\n",
       "      <td>0.0</td>\n",
       "      <td>UNK</td>\n",
       "      <td>Cruise</td>\n",
       "      <td>Probable Cause</td>\n",
       "      <td>NaN</td>\n",
       "      <td>SEA87LA080_NC6404</td>\n",
       "    </tr>\n",
       "    <tr>\n",
       "      <th>1</th>\n",
       "      <td>Accident</td>\n",
       "      <td>1962-07-19</td>\n",
       "      <td>BRIDGEPORT, CA</td>\n",
       "      <td>United States</td>\n",
       "      <td>Fatal</td>\n",
       "      <td>Destroyed</td>\n",
       "      <td>Piper</td>\n",
       "      <td>PA24-180</td>\n",
       "      <td>No</td>\n",
       "      <td>1.0</td>\n",
       "      <td>Reciprocating</td>\n",
       "      <td>Personal</td>\n",
       "      <td>4.0</td>\n",
       "      <td>0.0</td>\n",
       "      <td>0.0</td>\n",
       "      <td>0.0</td>\n",
       "      <td>UNK</td>\n",
       "      <td>Unknown</td>\n",
       "      <td>Probable Cause</td>\n",
       "      <td>19-09-1996</td>\n",
       "      <td>LAX94LA336_N5069P</td>\n",
       "    </tr>\n",
       "    <tr>\n",
       "      <th>2</th>\n",
       "      <td>Accident</td>\n",
       "      <td>1974-08-30</td>\n",
       "      <td>Saltville, VA</td>\n",
       "      <td>United States</td>\n",
       "      <td>Fatal</td>\n",
       "      <td>Destroyed</td>\n",
       "      <td>Cessna</td>\n",
       "      <td>172M</td>\n",
       "      <td>No</td>\n",
       "      <td>1.0</td>\n",
       "      <td>Reciprocating</td>\n",
       "      <td>Personal</td>\n",
       "      <td>3.0</td>\n",
       "      <td>NaN</td>\n",
       "      <td>NaN</td>\n",
       "      <td>NaN</td>\n",
       "      <td>IMC</td>\n",
       "      <td>Cruise</td>\n",
       "      <td>Probable Cause</td>\n",
       "      <td>26-02-2007</td>\n",
       "      <td>NYC07LA005_N5142R</td>\n",
       "    </tr>\n",
       "    <tr>\n",
       "      <th>3</th>\n",
       "      <td>Accident</td>\n",
       "      <td>1977-06-19</td>\n",
       "      <td>EUREKA, CA</td>\n",
       "      <td>United States</td>\n",
       "      <td>Fatal</td>\n",
       "      <td>Destroyed</td>\n",
       "      <td>Rockwell</td>\n",
       "      <td>112</td>\n",
       "      <td>No</td>\n",
       "      <td>1.0</td>\n",
       "      <td>Reciprocating</td>\n",
       "      <td>Personal</td>\n",
       "      <td>2.0</td>\n",
       "      <td>0.0</td>\n",
       "      <td>0.0</td>\n",
       "      <td>0.0</td>\n",
       "      <td>IMC</td>\n",
       "      <td>Cruise</td>\n",
       "      <td>Probable Cause</td>\n",
       "      <td>12-09-2000</td>\n",
       "      <td>LAX96LA321_N1168J</td>\n",
       "    </tr>\n",
       "    <tr>\n",
       "      <th>6</th>\n",
       "      <td>Accident</td>\n",
       "      <td>1981-08-01</td>\n",
       "      <td>COTTON, MN</td>\n",
       "      <td>United States</td>\n",
       "      <td>Fatal</td>\n",
       "      <td>Destroyed</td>\n",
       "      <td>Cessna</td>\n",
       "      <td>180</td>\n",
       "      <td>No</td>\n",
       "      <td>1.0</td>\n",
       "      <td>Reciprocating</td>\n",
       "      <td>Personal</td>\n",
       "      <td>4.0</td>\n",
       "      <td>0.0</td>\n",
       "      <td>0.0</td>\n",
       "      <td>0.0</td>\n",
       "      <td>IMC</td>\n",
       "      <td>Unknown</td>\n",
       "      <td>Probable Cause</td>\n",
       "      <td>06-11-2001</td>\n",
       "      <td>CHI81LA106_N4988E</td>\n",
       "    </tr>\n",
       "    <tr>\n",
       "      <th>...</th>\n",
       "      <td>...</td>\n",
       "      <td>...</td>\n",
       "      <td>...</td>\n",
       "      <td>...</td>\n",
       "      <td>...</td>\n",
       "      <td>...</td>\n",
       "      <td>...</td>\n",
       "      <td>...</td>\n",
       "      <td>...</td>\n",
       "      <td>...</td>\n",
       "      <td>...</td>\n",
       "      <td>...</td>\n",
       "      <td>...</td>\n",
       "      <td>...</td>\n",
       "      <td>...</td>\n",
       "      <td>...</td>\n",
       "      <td>...</td>\n",
       "      <td>...</td>\n",
       "      <td>...</td>\n",
       "      <td>...</td>\n",
       "      <td>...</td>\n",
       "    </tr>\n",
       "    <tr>\n",
       "      <th>88638</th>\n",
       "      <td>Accident</td>\n",
       "      <td>2022-10-06</td>\n",
       "      <td>Waldron, AR</td>\n",
       "      <td>United States</td>\n",
       "      <td>Fatal</td>\n",
       "      <td>Substantial</td>\n",
       "      <td>WASZAK ARTHUR B</td>\n",
       "      <td>WITTMAN TAILWIND W10</td>\n",
       "      <td>Yes</td>\n",
       "      <td>1.0</td>\n",
       "      <td>Reciprocating</td>\n",
       "      <td>Personal</td>\n",
       "      <td>0.0</td>\n",
       "      <td>0.0</td>\n",
       "      <td>0.0</td>\n",
       "      <td>1.0</td>\n",
       "      <td>VMC</td>\n",
       "      <td>Unknown</td>\n",
       "      <td>The pilots failure to maintain adequate airsp...</td>\n",
       "      <td>20-12-2022</td>\n",
       "      <td>CEN23LA007_N717AB</td>\n",
       "    </tr>\n",
       "    <tr>\n",
       "      <th>88639</th>\n",
       "      <td>Accident</td>\n",
       "      <td>2022-10-06</td>\n",
       "      <td>Iola, TX</td>\n",
       "      <td>United States</td>\n",
       "      <td>Fatal</td>\n",
       "      <td>Substantial</td>\n",
       "      <td>CESSNA</td>\n",
       "      <td>150</td>\n",
       "      <td>No</td>\n",
       "      <td>1.0</td>\n",
       "      <td>Reciprocating</td>\n",
       "      <td>Personal</td>\n",
       "      <td>0.0</td>\n",
       "      <td>0.0</td>\n",
       "      <td>0.0</td>\n",
       "      <td>1.0</td>\n",
       "      <td>VMC</td>\n",
       "      <td>Unknown</td>\n",
       "      <td>The pilots failure to maintain control of the...</td>\n",
       "      <td>20-12-2022</td>\n",
       "      <td>CEN23LA008_N18158</td>\n",
       "    </tr>\n",
       "    <tr>\n",
       "      <th>88647</th>\n",
       "      <td>Accident</td>\n",
       "      <td>2022-10-08</td>\n",
       "      <td>Dacula, GA</td>\n",
       "      <td>United States</td>\n",
       "      <td>Fatal</td>\n",
       "      <td>Substantial</td>\n",
       "      <td>CESSNA</td>\n",
       "      <td>177RG</td>\n",
       "      <td>No</td>\n",
       "      <td>1.0</td>\n",
       "      <td>Reciprocating</td>\n",
       "      <td>Personal</td>\n",
       "      <td>0.0</td>\n",
       "      <td>0.0</td>\n",
       "      <td>0.0</td>\n",
       "      <td>2.0</td>\n",
       "      <td>VMC</td>\n",
       "      <td>Unknown</td>\n",
       "      <td>An in-flight collision with a bird while on ap...</td>\n",
       "      <td>20-12-2022</td>\n",
       "      <td>ERA23LA014_N2047Q</td>\n",
       "    </tr>\n",
       "    <tr>\n",
       "      <th>88735</th>\n",
       "      <td>Accident</td>\n",
       "      <td>2022-10-29</td>\n",
       "      <td>Houston, TX</td>\n",
       "      <td>United States</td>\n",
       "      <td>Minor</td>\n",
       "      <td>Substantial</td>\n",
       "      <td>STEPHEN J HOFFMAN</td>\n",
       "      <td>MS-500</td>\n",
       "      <td>Yes</td>\n",
       "      <td>1.0</td>\n",
       "      <td>Reciprocating</td>\n",
       "      <td>ASHO</td>\n",
       "      <td>0.0</td>\n",
       "      <td>1.0</td>\n",
       "      <td>0.0</td>\n",
       "      <td>0.0</td>\n",
       "      <td>VMC</td>\n",
       "      <td>Unknown</td>\n",
       "      <td>The pilots failure to secure the magneto swit...</td>\n",
       "      <td>20-12-2022</td>\n",
       "      <td>CEN23LA023_N778MS</td>\n",
       "    </tr>\n",
       "    <tr>\n",
       "      <th>88767</th>\n",
       "      <td>Accident</td>\n",
       "      <td>2022-11-09</td>\n",
       "      <td>Bridgeport, TX</td>\n",
       "      <td>United States</td>\n",
       "      <td>Fatal</td>\n",
       "      <td>Substantial</td>\n",
       "      <td>LUSCOMBE</td>\n",
       "      <td>8E</td>\n",
       "      <td>No</td>\n",
       "      <td>1.0</td>\n",
       "      <td>Reciprocating</td>\n",
       "      <td>Personal</td>\n",
       "      <td>0.0</td>\n",
       "      <td>0.0</td>\n",
       "      <td>0.0</td>\n",
       "      <td>2.0</td>\n",
       "      <td>VMC</td>\n",
       "      <td>Unknown</td>\n",
       "      <td>The pilots loss of control due to a wind gust...</td>\n",
       "      <td>20-12-2022</td>\n",
       "      <td>CEN23LA033_N1855K</td>\n",
       "    </tr>\n",
       "  </tbody>\n",
       "</table>\n",
       "<p>62744 rows × 21 columns</p>\n",
       "</div>"
      ],
      "text/plain": [
       "      investigation_type  event_date         location        country  \\\n",
       "0               Accident  1948-10-24  MOOSE CREEK, ID  United States   \n",
       "1               Accident  1962-07-19   BRIDGEPORT, CA  United States   \n",
       "2               Accident  1974-08-30    Saltville, VA  United States   \n",
       "3               Accident  1977-06-19       EUREKA, CA  United States   \n",
       "6               Accident  1981-08-01       COTTON, MN  United States   \n",
       "...                  ...         ...              ...            ...   \n",
       "88638           Accident  2022-10-06      Waldron, AR  United States   \n",
       "88639           Accident  2022-10-06         Iola, TX  United States   \n",
       "88647           Accident  2022-10-08       Dacula, GA  United States   \n",
       "88735           Accident  2022-10-29      Houston, TX  United States   \n",
       "88767           Accident  2022-11-09   Bridgeport, TX  United States   \n",
       "\n",
       "      injury_severity aircraft_damage               make  \\\n",
       "0               Fatal       Destroyed            Stinson   \n",
       "1               Fatal       Destroyed              Piper   \n",
       "2               Fatal       Destroyed             Cessna   \n",
       "3               Fatal       Destroyed           Rockwell   \n",
       "6               Fatal       Destroyed             Cessna   \n",
       "...               ...             ...                ...   \n",
       "88638           Fatal     Substantial    WASZAK ARTHUR B   \n",
       "88639           Fatal     Substantial             CESSNA   \n",
       "88647           Fatal     Substantial             CESSNA   \n",
       "88735           Minor     Substantial  STEPHEN J HOFFMAN   \n",
       "88767           Fatal     Substantial           LUSCOMBE   \n",
       "\n",
       "                      model amateur_built  number_of_engines    engine_type  \\\n",
       "0                     108-3            No                1.0  Reciprocating   \n",
       "1                  PA24-180            No                1.0  Reciprocating   \n",
       "2                      172M            No                1.0  Reciprocating   \n",
       "3                       112            No                1.0  Reciprocating   \n",
       "6                       180            No                1.0  Reciprocating   \n",
       "...                     ...           ...                ...            ...   \n",
       "88638  WITTMAN TAILWIND W10           Yes                1.0  Reciprocating   \n",
       "88639                   150            No                1.0  Reciprocating   \n",
       "88647                 177RG            No                1.0  Reciprocating   \n",
       "88735                MS-500           Yes                1.0  Reciprocating   \n",
       "88767                    8E            No                1.0  Reciprocating   \n",
       "\n",
       "      purpose_of_flight  total_fatal_injuries  total_serious_injuries  \\\n",
       "0              Personal                   2.0                     0.0   \n",
       "1              Personal                   4.0                     0.0   \n",
       "2              Personal                   3.0                     NaN   \n",
       "3              Personal                   2.0                     0.0   \n",
       "6              Personal                   4.0                     0.0   \n",
       "...                 ...                   ...                     ...   \n",
       "88638          Personal                   0.0                     0.0   \n",
       "88639          Personal                   0.0                     0.0   \n",
       "88647          Personal                   0.0                     0.0   \n",
       "88735              ASHO                   0.0                     1.0   \n",
       "88767          Personal                   0.0                     0.0   \n",
       "\n",
       "       total_minor_injuries  total_uninjured weather_condition  \\\n",
       "0                       0.0              0.0               UNK   \n",
       "1                       0.0              0.0               UNK   \n",
       "2                       NaN              NaN               IMC   \n",
       "3                       0.0              0.0               IMC   \n",
       "6                       0.0              0.0               IMC   \n",
       "...                     ...              ...               ...   \n",
       "88638                   0.0              1.0               VMC   \n",
       "88639                   0.0              1.0               VMC   \n",
       "88647                   0.0              2.0               VMC   \n",
       "88735                   0.0              0.0               VMC   \n",
       "88767                   0.0              2.0               VMC   \n",
       "\n",
       "      broad_phase_of_flight  \\\n",
       "0                    Cruise   \n",
       "1                   Unknown   \n",
       "2                    Cruise   \n",
       "3                    Cruise   \n",
       "6                   Unknown   \n",
       "...                     ...   \n",
       "88638               Unknown   \n",
       "88639               Unknown   \n",
       "88647               Unknown   \n",
       "88735               Unknown   \n",
       "88767               Unknown   \n",
       "\n",
       "                                           report_status publication_date  \\\n",
       "0                                         Probable Cause              NaN   \n",
       "1                                         Probable Cause       19-09-1996   \n",
       "2                                         Probable Cause       26-02-2007   \n",
       "3                                         Probable Cause       12-09-2000   \n",
       "6                                         Probable Cause       06-11-2001   \n",
       "...                                                  ...              ...   \n",
       "88638  The pilots failure to maintain adequate airsp...       20-12-2022   \n",
       "88639  The pilots failure to maintain control of the...       20-12-2022   \n",
       "88647  An in-flight collision with a bird while on ap...       20-12-2022   \n",
       "88735  The pilots failure to secure the magneto swit...       20-12-2022   \n",
       "88767  The pilots loss of control due to a wind gust...       20-12-2022   \n",
       "\n",
       "             primary_key  \n",
       "0      SEA87LA080_NC6404  \n",
       "1      LAX94LA336_N5069P  \n",
       "2      NYC07LA005_N5142R  \n",
       "3      LAX96LA321_N1168J  \n",
       "6      CHI81LA106_N4988E  \n",
       "...                  ...  \n",
       "88638  CEN23LA007_N717AB  \n",
       "88639  CEN23LA008_N18158  \n",
       "88647  ERA23LA014_N2047Q  \n",
       "88735  CEN23LA023_N778MS  \n",
       "88767  CEN23LA033_N1855K  \n",
       "\n",
       "[62744 rows x 21 columns]"
      ]
     },
     "execution_count": 133,
     "metadata": {},
     "output_type": "execute_result"
    }
   ],
   "source": [
    "df[(df['engine_type']=='Reciprocating') & (df['number_of_engines']==1)]"
   ]
  },
  {
   "cell_type": "markdown",
   "metadata": {},
   "source": [
    "Given the number of null values of the schedule column I belive not much valuable information can be extracted from here. Thus, \n",
    "I will proceed to drop this column"
   ]
  },
  {
   "cell_type": "code",
   "execution_count": 134,
   "metadata": {
    "scrolled": false
   },
   "outputs": [
    {
     "data": {
      "text/plain": [
       "purpose_of_flight\n",
       "Personal                     0.608176\n",
       "Instructional                0.130658\n",
       "Unknown                      0.071900\n",
       "Aerial Application           0.057969\n",
       "Business                     0.048146\n",
       "Positioning                  0.019619\n",
       "Other Work Use               0.014934\n",
       "Ferry                        0.009133\n",
       "Aerial Observation           0.008858\n",
       "Public Aircraft              0.008582\n",
       "Executive/corporate          0.006377\n",
       "Flight Test                  0.004899\n",
       "Skydiving                    0.002142\n",
       "External Load                0.001403\n",
       "Banner Tow                   0.001265\n",
       "Public Aircraft - Federal    0.001228\n",
       "Air Race show                0.001027\n",
       "Public Aircraft - Local      0.000927\n",
       "Public Aircraft - State      0.000789\n",
       "Air Race/show                0.000714\n",
       "Glider Tow                   0.000651\n",
       "Firefighting                 0.000363\n",
       "Air Drop                     0.000100\n",
       "ASHO                         0.000075\n",
       "PUBS                         0.000050\n",
       "PUBL                         0.000013\n",
       "Name: proportion, dtype: float64"
      ]
     },
     "execution_count": 134,
     "metadata": {},
     "output_type": "execute_result"
    }
   ],
   "source": [
    "df['purpose_of_flight'].value_counts(normalize=True)"
   ]
  },
  {
   "cell_type": "code",
   "execution_count": 135,
   "metadata": {},
   "outputs": [],
   "source": [
    "# Let's fill null values with unknown\n",
    "\n",
    "df['purpose_of_flight'].fillna('Unknown', inplace=True)"
   ]
  },
  {
   "cell_type": "markdown",
   "metadata": {},
   "source": [
    "The majority of the accidents occured under a personal purpose to fly. I consider there not to be much insight from this."
   ]
  },
  {
   "cell_type": "markdown",
   "metadata": {},
   "source": [
    "I will now proceed to study: 'total_fatal_injuries', 'total_serious_injuries', 'total_minor_injuries', 'total_uninjured' looking at their frequencies. "
   ]
  },
  {
   "cell_type": "code",
   "execution_count": 136,
   "metadata": {
    "scrolled": true
   },
   "outputs": [
    {
     "data": {
      "image/png": "[encoded data removed]",
      "text/plain": [
       "<Figure size 640x480 with 1 Axes>"
      ]
     },
     "metadata": {},
     "output_type": "display_data"
    },
    {
     "data": {
      "image/png": "[encoded data removed]",
      "text/plain": [
       "<Figure size 640x480 with 1 Axes>"
      ]
     },
     "metadata": {},
     "output_type": "display_data"
    },
    {
     "data": {
      "image/png": "[encoded data removed]",
      "text/plain": [
       "<Figure size 640x480 with 1 Axes>"
      ]
     },
     "metadata": {},
     "output_type": "display_data"
    },
    {
     "data": {
      "image/png": "[encoded data removed]",
      "text/plain": [
       "<Figure size 640x480 with 1 Axes>"
      ]
     },
     "metadata": {},
     "output_type": "display_data"
    }
   ],
   "source": [
    "columns_of_injuries = ['total_fatal_injuries', 'total_serious_injuries', 'total_minor_injuries', 'total_uninjured']\n",
    "\n",
    "for columns in columns_of_injuries:\n",
    "    # First, I am going to call categorize_data function to categorize the values in either 'zero' or 'one or more'\n",
    "    df[columns] = df[columns].map(categorize_data)\n",
    "    \n",
    "    # Second, I will represent the results of all the columns in bar graphs\n",
    "    plot_bar_graph_for_columns(columns)\n"
   ]
  },
  {
   "cell_type": "markdown",
   "metadata": {},
   "source": [
    "The graphs above give a view of the injuries. In particular, in the last graph one can see that around 30% of the accidents in \n",
    "the dataset have had injuries"
   ]
  },
  {
   "cell_type": "markdown",
   "metadata": {},
   "source": [
    "I will eliminate the rows rows where injury_severity has 'Fatal' but don't have a number in the corresponding value of total_fatal_injuries"
   ]
  },
  {
   "cell_type": "code",
   "execution_count": 151,
   "metadata": {},
   "outputs": [],
   "source": [
    "df = df[~((df['injury_severity']=='Fatal') & (df['total_fatal_injuries']=='Zero'))]"
   ]
  },
  {
   "cell_type": "markdown",
   "metadata": {},
   "source": [
    "I will eliminate the rows where injury_severity has 'Non-Fatal' but have a number in the corresponding value of total_fatal_injuries"
   ]
  },
  {
   "cell_type": "code",
   "execution_count": 152,
   "metadata": {},
   "outputs": [],
   "source": [
    "df = df[~((df['injury_severity']=='Non-Fatal') & (df['total_fatal_injuries']!='Zero'))]"
   ]
  },
  {
   "cell_type": "markdown",
   "metadata": {},
   "source": [
    "Given that it is of my interest to study the fatal injuries above all, I will categorize injury_severity to either fatal or non-fatal. "
   ]
  },
  {
   "cell_type": "code",
   "execution_count": 157,
   "metadata": {},
   "outputs": [
    {
     "name": "stderr",
     "output_type": "stream",
     "text": [
      "<>:1: SyntaxWarning: \"is not\" with 'str' literal. Did you mean \"!=\"?\n",
      "<>:1: SyntaxWarning: \"is not\" with 'str' literal. Did you mean \"!=\"?\n",
      "C:\\Users\\Usuario\\AppData\\Local\\Temp\\ipykernel_25556\\333316789.py:1: SyntaxWarning: \"is not\" with 'str' literal. Did you mean \"!=\"?\n",
      "  df['injury_severity'] = df['injury_severity'].map(lambda x: 'Non-fatal' if x is not 'Fatal' else x)\n"
     ]
    },
    {
     "data": {
      "text/plain": [
       "injury_severity\n",
       "Fatal        79896\n",
       "Non-fatal     2352\n",
       "Name: count, dtype: int64"
      ]
     },
     "execution_count": 157,
     "metadata": {},
     "output_type": "execute_result"
    }
   ],
   "source": [
    "df['injury_severity'] = df['injury_severity'].map(lambda x: 'Non-fatal' if x is not 'Fatal' else x)\n",
    "df['injury_severity'].value_counts()"
   ]
  },
  {
   "cell_type": "code",
   "execution_count": 158,
   "metadata": {},
   "outputs": [
    {
     "data": {
      "text/html": [
       "<div>\n",
       "<style scoped>\n",
       "    .dataframe tbody tr th:only-of-type {\n",
       "        vertical-align: middle;\n",
       "    }\n",
       "\n",
       "    .dataframe tbody tr th {\n",
       "        vertical-align: top;\n",
       "    }\n",
       "\n",
       "    .dataframe thead th {\n",
       "        text-align: right;\n",
       "    }\n",
       "</style>\n",
       "<table border=\"1\" class=\"dataframe\">\n",
       "  <thead>\n",
       "    <tr style=\"text-align: right;\">\n",
       "      <th></th>\n",
       "      <th>investigation_type</th>\n",
       "      <th>event_date</th>\n",
       "      <th>location</th>\n",
       "      <th>country</th>\n",
       "      <th>injury_severity</th>\n",
       "      <th>aircraft_damage</th>\n",
       "      <th>make</th>\n",
       "      <th>model</th>\n",
       "      <th>amateur_built</th>\n",
       "      <th>number_of_engines</th>\n",
       "      <th>engine_type</th>\n",
       "      <th>purpose_of_flight</th>\n",
       "      <th>total_fatal_injuries</th>\n",
       "      <th>total_serious_injuries</th>\n",
       "      <th>total_minor_injuries</th>\n",
       "      <th>total_uninjured</th>\n",
       "      <th>weather_condition</th>\n",
       "      <th>broad_phase_of_flight</th>\n",
       "      <th>report_status</th>\n",
       "      <th>publication_date</th>\n",
       "      <th>primary_key</th>\n",
       "    </tr>\n",
       "  </thead>\n",
       "  <tbody>\n",
       "    <tr>\n",
       "      <th>0</th>\n",
       "      <td>Accident</td>\n",
       "      <td>1948-10-24</td>\n",
       "      <td>MOOSE CREEK, ID</td>\n",
       "      <td>United States</td>\n",
       "      <td>Fatal</td>\n",
       "      <td>Destroyed</td>\n",
       "      <td>Stinson</td>\n",
       "      <td>108-3</td>\n",
       "      <td>No</td>\n",
       "      <td>1.0</td>\n",
       "      <td>Reciprocating</td>\n",
       "      <td>Personal</td>\n",
       "      <td>one or more</td>\n",
       "      <td>zero</td>\n",
       "      <td>zero</td>\n",
       "      <td>zero</td>\n",
       "      <td>UNK</td>\n",
       "      <td>Cruise</td>\n",
       "      <td>Probable Cause</td>\n",
       "      <td>NaN</td>\n",
       "      <td>SEA87LA080_NC6404</td>\n",
       "    </tr>\n",
       "    <tr>\n",
       "      <th>1</th>\n",
       "      <td>Accident</td>\n",
       "      <td>1962-07-19</td>\n",
       "      <td>BRIDGEPORT, CA</td>\n",
       "      <td>United States</td>\n",
       "      <td>Fatal</td>\n",
       "      <td>Destroyed</td>\n",
       "      <td>Piper</td>\n",
       "      <td>PA24-180</td>\n",
       "      <td>No</td>\n",
       "      <td>1.0</td>\n",
       "      <td>Reciprocating</td>\n",
       "      <td>Personal</td>\n",
       "      <td>one or more</td>\n",
       "      <td>zero</td>\n",
       "      <td>zero</td>\n",
       "      <td>zero</td>\n",
       "      <td>UNK</td>\n",
       "      <td>Unknown</td>\n",
       "      <td>Probable Cause</td>\n",
       "      <td>19-09-1996</td>\n",
       "      <td>LAX94LA336_N5069P</td>\n",
       "    </tr>\n",
       "    <tr>\n",
       "      <th>2</th>\n",
       "      <td>Accident</td>\n",
       "      <td>1974-08-30</td>\n",
       "      <td>Saltville, VA</td>\n",
       "      <td>United States</td>\n",
       "      <td>Fatal</td>\n",
       "      <td>Destroyed</td>\n",
       "      <td>Cessna</td>\n",
       "      <td>172M</td>\n",
       "      <td>No</td>\n",
       "      <td>1.0</td>\n",
       "      <td>Reciprocating</td>\n",
       "      <td>Personal</td>\n",
       "      <td>one or more</td>\n",
       "      <td>one or more</td>\n",
       "      <td>one or more</td>\n",
       "      <td>one or more</td>\n",
       "      <td>IMC</td>\n",
       "      <td>Cruise</td>\n",
       "      <td>Probable Cause</td>\n",
       "      <td>26-02-2007</td>\n",
       "      <td>NYC07LA005_N5142R</td>\n",
       "    </tr>\n",
       "    <tr>\n",
       "      <th>3</th>\n",
       "      <td>Accident</td>\n",
       "      <td>1977-06-19</td>\n",
       "      <td>EUREKA, CA</td>\n",
       "      <td>United States</td>\n",
       "      <td>Fatal</td>\n",
       "      <td>Destroyed</td>\n",
       "      <td>Rockwell</td>\n",
       "      <td>112</td>\n",
       "      <td>No</td>\n",
       "      <td>1.0</td>\n",
       "      <td>Reciprocating</td>\n",
       "      <td>Personal</td>\n",
       "      <td>one or more</td>\n",
       "      <td>zero</td>\n",
       "      <td>zero</td>\n",
       "      <td>zero</td>\n",
       "      <td>IMC</td>\n",
       "      <td>Cruise</td>\n",
       "      <td>Probable Cause</td>\n",
       "      <td>12-09-2000</td>\n",
       "      <td>LAX96LA321_N1168J</td>\n",
       "    </tr>\n",
       "    <tr>\n",
       "      <th>4</th>\n",
       "      <td>Accident</td>\n",
       "      <td>1979-08-02</td>\n",
       "      <td>Canton, OH</td>\n",
       "      <td>United States</td>\n",
       "      <td>Fatal</td>\n",
       "      <td>Destroyed</td>\n",
       "      <td>Cessna</td>\n",
       "      <td>501</td>\n",
       "      <td>No</td>\n",
       "      <td>1.0</td>\n",
       "      <td>Unknown</td>\n",
       "      <td>Personal</td>\n",
       "      <td>one or more</td>\n",
       "      <td>one or more</td>\n",
       "      <td>one or more</td>\n",
       "      <td>zero</td>\n",
       "      <td>VMC</td>\n",
       "      <td>Approach</td>\n",
       "      <td>Probable Cause</td>\n",
       "      <td>16-04-1980</td>\n",
       "      <td>CHI79FA064_N15NY</td>\n",
       "    </tr>\n",
       "  </tbody>\n",
       "</table>\n",
       "</div>"
      ],
      "text/plain": [
       "  investigation_type  event_date         location        country  \\\n",
       "0           Accident  1948-10-24  MOOSE CREEK, ID  United States   \n",
       "1           Accident  1962-07-19   BRIDGEPORT, CA  United States   \n",
       "2           Accident  1974-08-30    Saltville, VA  United States   \n",
       "3           Accident  1977-06-19       EUREKA, CA  United States   \n",
       "4           Accident  1979-08-02       Canton, OH  United States   \n",
       "\n",
       "  injury_severity aircraft_damage      make     model amateur_built  \\\n",
       "0           Fatal       Destroyed   Stinson     108-3            No   \n",
       "1           Fatal       Destroyed     Piper  PA24-180            No   \n",
       "2           Fatal       Destroyed    Cessna      172M            No   \n",
       "3           Fatal       Destroyed  Rockwell       112            No   \n",
       "4           Fatal       Destroyed    Cessna       501            No   \n",
       "\n",
       "   number_of_engines    engine_type purpose_of_flight total_fatal_injuries  \\\n",
       "0                1.0  Reciprocating          Personal          one or more   \n",
       "1                1.0  Reciprocating          Personal          one or more   \n",
       "2                1.0  Reciprocating          Personal          one or more   \n",
       "3                1.0  Reciprocating          Personal          one or more   \n",
       "4                1.0        Unknown          Personal          one or more   \n",
       "\n",
       "  total_serious_injuries total_minor_injuries total_uninjured  \\\n",
       "0                   zero                 zero            zero   \n",
       "1                   zero                 zero            zero   \n",
       "2            one or more          one or more     one or more   \n",
       "3                   zero                 zero            zero   \n",
       "4            one or more          one or more            zero   \n",
       "\n",
       "  weather_condition broad_phase_of_flight   report_status publication_date  \\\n",
       "0               UNK                Cruise  Probable Cause              NaN   \n",
       "1               UNK               Unknown  Probable Cause       19-09-1996   \n",
       "2               IMC                Cruise  Probable Cause       26-02-2007   \n",
       "3               IMC                Cruise  Probable Cause       12-09-2000   \n",
       "4               VMC              Approach  Probable Cause       16-04-1980   \n",
       "\n",
       "         primary_key  \n",
       "0  SEA87LA080_NC6404  \n",
       "1  LAX94LA336_N5069P  \n",
       "2  NYC07LA005_N5142R  \n",
       "3  LAX96LA321_N1168J  \n",
       "4   CHI79FA064_N15NY  "
      ]
     },
     "execution_count": 158,
     "metadata": {},
     "output_type": "execute_result"
    }
   ],
   "source": [
    "df.head()"
   ]
  },
  {
   "cell_type": "code",
   "execution_count": 138,
   "metadata": {},
   "outputs": [
    {
     "data": {
      "text/plain": [
       "weather_condition\n",
       "VMC    0.922969\n",
       "IMC    0.068846\n",
       "UNK    0.006703\n",
       "Unk    0.001483\n",
       "Name: proportion, dtype: float64"
      ]
     },
     "execution_count": 138,
     "metadata": {},
     "output_type": "execute_result"
    }
   ],
   "source": [
    "df['weather_condition'].value_counts(normalize=True)"
   ]
  },
  {
   "cell_type": "code",
   "execution_count": 139,
   "metadata": {},
   "outputs": [],
   "source": [
    "# Let's replace Unk to UNK and all the null values let's call them: UNK\n",
    "\n",
    "df['weather_condition'] = df['weather_condition'].replace('Unk','UNK')\n",
    "df['weather_condition'].fillna('UNK', inplace=True)"
   ]
  },
  {
   "cell_type": "markdown",
   "metadata": {},
   "source": [
    "The dataset contains in its majority VMC weather conditions (ie more than 91% of the data) which says that the flight conditions\n",
    "are good enough for pilots to fly using only visual cues. There is a remaining 7% of flights that were IMC and that are weather conditions that are so poor that pilots cannot safely fly using only visual cues."
   ]
  },
  {
   "cell_type": "code",
   "execution_count": 140,
   "metadata": {},
   "outputs": [
    {
     "data": {
      "text/plain": [
       "report_status\n",
       "Probable Cause                                                                                                                                                                                                                                                  0.768349\n",
       "Factual                                                                                                                                                                                                                                                         0.001758\n",
       "The pilot's failure to maintain directional control during the landing roll.                                                                                                                                                                                    0.000703\n",
       "A loss of engine power for undetermined reasons.                                                                                                                                                                                                                0.000653\n",
       "The pilot's failure to maintain directional control during landing.                                                                                                                                                                                             0.000553\n",
       "                                                                                                                                                                                                                                                                  ...   \n",
       "The pilot's inadequate preflight inspection of the takeoff area, which resulted in a loss of control due to the binding of the parachute's lines.                                                                                                               0.000013\n",
       "The pilot's decision to operate the gyroplane outside his endorsement limitations and to depart with a tailwind, which resulted in a forced landing to unsuitable terrain.                                                                                      0.000013\n",
       "The pilots improper decision to continue visual flight into night instrument meteorological conditions, which resulted in controlled flight into terrain. Contributing to the pilots improper decision was his self-induced pressure to complete the trip.    0.000013\n",
       "The pilots failure to maintain adequate airspeed during a single-engine approach, which resulted in an aerodynamic stall. Contributing to the accident was the total loss of power in the left engine due to a failed No. 2 connecting rod bearing.            0.000013\n",
       "The pilots loss of control due to a wind gust during landing.                                                                                                                                                                                                  0.000013\n",
       "Name: proportion, Length: 16974, dtype: float64"
      ]
     },
     "execution_count": 140,
     "metadata": {},
     "output_type": "execute_result"
    }
   ],
   "source": [
    "df['report_status'].value_counts(normalize=True)"
   ]
  },
  {
   "cell_type": "code",
   "execution_count": 141,
   "metadata": {},
   "outputs": [
    {
     "data": {
      "text/plain": [
       "array(['Probable Cause', 'Factual', 'Preliminary', ...,\n",
       "       'The pilot did not ensure adequate clearance from construction vehicles during taxi.',\n",
       "       'The pilot\\x92s failure to secure the magneto switch before attempting to hand rotate the engine which resulted in an inadvertent engine start, a runaway airplane, and subsequent impact with parked airplanes. Contributing to the accident was the failure to properly secure the airplane with chocks.',\n",
       "       'The pilot\\x92s loss of control due to a wind gust during landing.'],\n",
       "      dtype=object)"
      ]
     },
     "execution_count": 141,
     "metadata": {},
     "output_type": "execute_result"
    }
   ],
   "source": [
    "df['report_status'].unique()"
   ]
  },
  {
   "cell_type": "code",
   "execution_count": 142,
   "metadata": {},
   "outputs": [
    {
     "data": {
      "text/plain": [
       "3.174545277696722"
      ]
     },
     "execution_count": 142,
     "metadata": {},
     "output_type": "execute_result"
    }
   ],
   "source": [
    "(df['report_status'].isnull().sum()/len(df['report_status']))*100 "
   ]
  },
  {
   "cell_type": "markdown",
   "metadata": {},
   "source": [
    "I'm going to create a new category that groups pilot's faults"
   ]
  },
  {
   "cell_type": "code",
   "execution_count": 143,
   "metadata": {},
   "outputs": [],
   "source": [
    "df['report_status'] = df['report_status'].map(lambda x: 'pilot failure' if isinstance(x,str) and 'pilot' in x else x)"
   ]
  },
  {
   "cell_type": "code",
   "execution_count": 144,
   "metadata": {},
   "outputs": [
    {
     "data": {
      "text/plain": [
       "array(['Probable Cause', 'Factual', 'Preliminary', ...,\n",
       "       'The airplane\\x92s encounter with a microburst during initial climb that resulted in a loss of altitude and subsequent collision with a tree.',\n",
       "       'A collision with a deer during landing, which resulted in substantial damage to the left wing.',\n",
       "       'An in-flight collision with a bird while on approach.'],\n",
       "      dtype=object)"
      ]
     },
     "execution_count": 144,
     "metadata": {},
     "output_type": "execute_result"
    }
   ],
   "source": [
    "df['report_status'].unique()"
   ]
  },
  {
   "cell_type": "markdown",
   "metadata": {},
   "source": [
    "I'm going to create a new category that groups collisions"
   ]
  },
  {
   "cell_type": "code",
   "execution_count": 145,
   "metadata": {},
   "outputs": [],
   "source": [
    "df['report_status'] = df['report_status'].map(lambda x: 'Collision' if isinstance(x,str) and 'collision' in x else x)"
   ]
  },
  {
   "cell_type": "code",
   "execution_count": 146,
   "metadata": {},
   "outputs": [
    {
     "data": {
      "text/plain": [
       "4275"
      ]
     },
     "execution_count": 146,
     "metadata": {},
     "output_type": "execute_result"
    }
   ],
   "source": [
    "df['report_status'].nunique()"
   ]
  },
  {
   "cell_type": "code",
   "execution_count": 150,
   "metadata": {},
   "outputs": [
    {
     "data": {
      "text/plain": [
       "investigation_type         0.000000\n",
       "event_date                 0.000000\n",
       "location                   0.013374\n",
       "country                    0.000000\n",
       "injury_severity            0.131310\n",
       "aircraft_damage            0.000000\n",
       "make                       0.000000\n",
       "model                      0.046202\n",
       "amateur_built              0.025533\n",
       "number_of_engines          0.000000\n",
       "engine_type                0.000000\n",
       "purpose_of_flight          0.000000\n",
       "total_fatal_injuries       0.000000\n",
       "total_serious_injuries     0.000000\n",
       "total_minor_injuries       0.000000\n",
       "total_uninjured            0.000000\n",
       "weather_condition          0.000000\n",
       "broad_phase_of_flight      0.000000\n",
       "report_status              3.174545\n",
       "publication_date          15.418004\n",
       "primary_key                0.141037\n",
       "dtype: float64"
      ]
     },
     "execution_count": 150,
     "metadata": {},
     "output_type": "execute_result"
    }
   ],
   "source": [
    "df.isnull().sum()/len(df)*100"
   ]
  },
  {
   "cell_type": "markdown",
   "metadata": {},
   "source": [
    "There are still 4358 unique cases in the report_status column and the majority of the explanations are not very clear"
   ]
  },
  {
   "cell_type": "code",
   "execution_count": null,
   "metadata": {},
   "outputs": [],
   "source": []
  },
  {
   "cell_type": "markdown",
   "metadata": {},
   "source": [
    "# 6. Results "
   ]
  },
  {
   "cell_type": "code",
   "execution_count": null,
   "metadata": {},
   "outputs": [],
   "source": []
  }
 ],
 "metadata": {
  "kernelspec": {
   "display_name": "Python (aircraft_env)",
   "language": "python",
   "name": "aircraft_env"
  },
  "language_info": {
   "codemirror_mode": {
    "name": "ipython",
    "version": 3
   },
   "file_extension": ".py",
   "mimetype": "text/x-python",
   "name": "python",
   "nbconvert_exporter": "python",
   "pygments_lexer": "ipython3",
   "version": "3.12.0"
  }
 },
 "nbformat": 4,
 "nbformat_minor": 4
}
